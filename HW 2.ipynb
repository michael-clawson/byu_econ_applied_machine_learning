{
 "cells": [
  {
   "cell_type": "markdown",
   "metadata": {},
   "source": [
    "Michael Clawson: HW 2-\n",
    "Let's first import a few things that we'll need, as well as read in and take a cursory look at our data:"
   ]
  },
  {
   "cell_type": "code",
   "execution_count": 2279,
   "metadata": {
    "collapsed": true
   },
   "outputs": [],
   "source": [
    "%matplotlib inline\n",
    "from sklearn.model_selection import learning_curve\n",
    "from sklearn.metrics import make_scorer\n",
    "import pandas as pd\n",
    "import seaborn as sns\n",
    "import numpy as np\n",
    "import matplotlib as mpl\n",
    "import sklearn as skl\n",
    "from sklearn.model_selection import train_test_split"
   ]
  },
  {
   "cell_type": "code",
   "execution_count": 2280,
   "metadata": {
    "collapsed": true
   },
   "outputs": [],
   "source": [
    "train_df = pd.read_csv(\"C:\\\\Users\\\\michael.clawson\\\\Desktop\\\\School\\\\Machine Learning\\\\HW 2\\\\train.csv\",\n",
    "                      header = 0)"
   ]
  },
  {
   "cell_type": "code",
   "execution_count": 2281,
   "metadata": {},
   "outputs": [
    {
     "data": {
      "text/html": [
       "<div>\n",
       "<style>\n",
       "    .dataframe thead tr:only-child th {\n",
       "        text-align: right;\n",
       "    }\n",
       "\n",
       "    .dataframe thead th {\n",
       "        text-align: left;\n",
       "    }\n",
       "\n",
       "    .dataframe tbody tr th {\n",
       "        vertical-align: top;\n",
       "    }\n",
       "</style>\n",
       "<table border=\"1\" class=\"dataframe\">\n",
       "  <thead>\n",
       "    <tr style=\"text-align: right;\">\n",
       "      <th></th>\n",
       "      <th>Id</th>\n",
       "      <th>MSSubClass</th>\n",
       "      <th>MSZoning</th>\n",
       "      <th>LotFrontage</th>\n",
       "      <th>LotArea</th>\n",
       "      <th>Street</th>\n",
       "      <th>Alley</th>\n",
       "      <th>LotShape</th>\n",
       "      <th>LandContour</th>\n",
       "      <th>Utilities</th>\n",
       "      <th>...</th>\n",
       "      <th>PoolArea</th>\n",
       "      <th>PoolQC</th>\n",
       "      <th>Fence</th>\n",
       "      <th>MiscFeature</th>\n",
       "      <th>MiscVal</th>\n",
       "      <th>MoSold</th>\n",
       "      <th>YrSold</th>\n",
       "      <th>SaleType</th>\n",
       "      <th>SaleCondition</th>\n",
       "      <th>SalePrice</th>\n",
       "    </tr>\n",
       "  </thead>\n",
       "  <tbody>\n",
       "    <tr>\n",
       "      <th>0</th>\n",
       "      <td>1</td>\n",
       "      <td>60</td>\n",
       "      <td>RL</td>\n",
       "      <td>65.0</td>\n",
       "      <td>8450</td>\n",
       "      <td>Pave</td>\n",
       "      <td>NaN</td>\n",
       "      <td>Reg</td>\n",
       "      <td>Lvl</td>\n",
       "      <td>AllPub</td>\n",
       "      <td>...</td>\n",
       "      <td>0</td>\n",
       "      <td>NaN</td>\n",
       "      <td>NaN</td>\n",
       "      <td>NaN</td>\n",
       "      <td>0</td>\n",
       "      <td>2</td>\n",
       "      <td>2008</td>\n",
       "      <td>WD</td>\n",
       "      <td>Normal</td>\n",
       "      <td>208500</td>\n",
       "    </tr>\n",
       "    <tr>\n",
       "      <th>1</th>\n",
       "      <td>2</td>\n",
       "      <td>20</td>\n",
       "      <td>RL</td>\n",
       "      <td>80.0</td>\n",
       "      <td>9600</td>\n",
       "      <td>Pave</td>\n",
       "      <td>NaN</td>\n",
       "      <td>Reg</td>\n",
       "      <td>Lvl</td>\n",
       "      <td>AllPub</td>\n",
       "      <td>...</td>\n",
       "      <td>0</td>\n",
       "      <td>NaN</td>\n",
       "      <td>NaN</td>\n",
       "      <td>NaN</td>\n",
       "      <td>0</td>\n",
       "      <td>5</td>\n",
       "      <td>2007</td>\n",
       "      <td>WD</td>\n",
       "      <td>Normal</td>\n",
       "      <td>181500</td>\n",
       "    </tr>\n",
       "    <tr>\n",
       "      <th>2</th>\n",
       "      <td>3</td>\n",
       "      <td>60</td>\n",
       "      <td>RL</td>\n",
       "      <td>68.0</td>\n",
       "      <td>11250</td>\n",
       "      <td>Pave</td>\n",
       "      <td>NaN</td>\n",
       "      <td>IR1</td>\n",
       "      <td>Lvl</td>\n",
       "      <td>AllPub</td>\n",
       "      <td>...</td>\n",
       "      <td>0</td>\n",
       "      <td>NaN</td>\n",
       "      <td>NaN</td>\n",
       "      <td>NaN</td>\n",
       "      <td>0</td>\n",
       "      <td>9</td>\n",
       "      <td>2008</td>\n",
       "      <td>WD</td>\n",
       "      <td>Normal</td>\n",
       "      <td>223500</td>\n",
       "    </tr>\n",
       "    <tr>\n",
       "      <th>3</th>\n",
       "      <td>4</td>\n",
       "      <td>70</td>\n",
       "      <td>RL</td>\n",
       "      <td>60.0</td>\n",
       "      <td>9550</td>\n",
       "      <td>Pave</td>\n",
       "      <td>NaN</td>\n",
       "      <td>IR1</td>\n",
       "      <td>Lvl</td>\n",
       "      <td>AllPub</td>\n",
       "      <td>...</td>\n",
       "      <td>0</td>\n",
       "      <td>NaN</td>\n",
       "      <td>NaN</td>\n",
       "      <td>NaN</td>\n",
       "      <td>0</td>\n",
       "      <td>2</td>\n",
       "      <td>2006</td>\n",
       "      <td>WD</td>\n",
       "      <td>Abnorml</td>\n",
       "      <td>140000</td>\n",
       "    </tr>\n",
       "    <tr>\n",
       "      <th>4</th>\n",
       "      <td>5</td>\n",
       "      <td>60</td>\n",
       "      <td>RL</td>\n",
       "      <td>84.0</td>\n",
       "      <td>14260</td>\n",
       "      <td>Pave</td>\n",
       "      <td>NaN</td>\n",
       "      <td>IR1</td>\n",
       "      <td>Lvl</td>\n",
       "      <td>AllPub</td>\n",
       "      <td>...</td>\n",
       "      <td>0</td>\n",
       "      <td>NaN</td>\n",
       "      <td>NaN</td>\n",
       "      <td>NaN</td>\n",
       "      <td>0</td>\n",
       "      <td>12</td>\n",
       "      <td>2008</td>\n",
       "      <td>WD</td>\n",
       "      <td>Normal</td>\n",
       "      <td>250000</td>\n",
       "    </tr>\n",
       "  </tbody>\n",
       "</table>\n",
       "<p>5 rows × 81 columns</p>\n",
       "</div>"
      ],
      "text/plain": [
       "   Id  MSSubClass MSZoning  LotFrontage  LotArea Street Alley LotShape  \\\n",
       "0   1          60       RL         65.0     8450   Pave   NaN      Reg   \n",
       "1   2          20       RL         80.0     9600   Pave   NaN      Reg   \n",
       "2   3          60       RL         68.0    11250   Pave   NaN      IR1   \n",
       "3   4          70       RL         60.0     9550   Pave   NaN      IR1   \n",
       "4   5          60       RL         84.0    14260   Pave   NaN      IR1   \n",
       "\n",
       "  LandContour Utilities    ...     PoolArea PoolQC Fence MiscFeature MiscVal  \\\n",
       "0         Lvl    AllPub    ...            0    NaN   NaN         NaN       0   \n",
       "1         Lvl    AllPub    ...            0    NaN   NaN         NaN       0   \n",
       "2         Lvl    AllPub    ...            0    NaN   NaN         NaN       0   \n",
       "3         Lvl    AllPub    ...            0    NaN   NaN         NaN       0   \n",
       "4         Lvl    AllPub    ...            0    NaN   NaN         NaN       0   \n",
       "\n",
       "  MoSold YrSold  SaleType  SaleCondition  SalePrice  \n",
       "0      2   2008        WD         Normal     208500  \n",
       "1      5   2007        WD         Normal     181500  \n",
       "2      9   2008        WD         Normal     223500  \n",
       "3      2   2006        WD        Abnorml     140000  \n",
       "4     12   2008        WD         Normal     250000  \n",
       "\n",
       "[5 rows x 81 columns]"
      ]
     },
     "execution_count": 2281,
     "metadata": {},
     "output_type": "execute_result"
    }
   ],
   "source": [
    "train_df.head()"
   ]
  },
  {
   "cell_type": "markdown",
   "metadata": {},
   "source": [
    "Let's see what kind of data we have, and see what we'll need to fill."
   ]
  },
  {
   "cell_type": "code",
   "execution_count": 2282,
   "metadata": {},
   "outputs": [
    {
     "name": "stdout",
     "output_type": "stream",
     "text": [
      "<class 'pandas.core.frame.DataFrame'>\n",
      "RangeIndex: 1460 entries, 0 to 1459\n",
      "Data columns (total 81 columns):\n",
      "Id               1460 non-null int64\n",
      "MSSubClass       1460 non-null int64\n",
      "MSZoning         1460 non-null object\n",
      "LotFrontage      1201 non-null float64\n",
      "LotArea          1460 non-null int64\n",
      "Street           1460 non-null object\n",
      "Alley            91 non-null object\n",
      "LotShape         1460 non-null object\n",
      "LandContour      1460 non-null object\n",
      "Utilities        1460 non-null object\n",
      "LotConfig        1460 non-null object\n",
      "LandSlope        1460 non-null object\n",
      "Neighborhood     1460 non-null object\n",
      "Condition1       1460 non-null object\n",
      "Condition2       1460 non-null object\n",
      "BldgType         1460 non-null object\n",
      "HouseStyle       1460 non-null object\n",
      "OverallQual      1460 non-null int64\n",
      "OverallCond      1460 non-null int64\n",
      "YearBuilt        1460 non-null int64\n",
      "YearRemodAdd     1460 non-null int64\n",
      "RoofStyle        1460 non-null object\n",
      "RoofMatl         1460 non-null object\n",
      "Exterior1st      1460 non-null object\n",
      "Exterior2nd      1460 non-null object\n",
      "MasVnrType       1452 non-null object\n",
      "MasVnrArea       1452 non-null float64\n",
      "ExterQual        1460 non-null object\n",
      "ExterCond        1460 non-null object\n",
      "Foundation       1460 non-null object\n",
      "BsmtQual         1423 non-null object\n",
      "BsmtCond         1423 non-null object\n",
      "BsmtExposure     1422 non-null object\n",
      "BsmtFinType1     1423 non-null object\n",
      "BsmtFinSF1       1460 non-null int64\n",
      "BsmtFinType2     1422 non-null object\n",
      "BsmtFinSF2       1460 non-null int64\n",
      "BsmtUnfSF        1460 non-null int64\n",
      "TotalBsmtSF      1460 non-null int64\n",
      "Heating          1460 non-null object\n",
      "HeatingQC        1460 non-null object\n",
      "CentralAir       1460 non-null object\n",
      "Electrical       1459 non-null object\n",
      "1stFlrSF         1460 non-null int64\n",
      "2ndFlrSF         1460 non-null int64\n",
      "LowQualFinSF     1460 non-null int64\n",
      "GrLivArea        1460 non-null int64\n",
      "BsmtFullBath     1460 non-null int64\n",
      "BsmtHalfBath     1460 non-null int64\n",
      "FullBath         1460 non-null int64\n",
      "HalfBath         1460 non-null int64\n",
      "BedroomAbvGr     1460 non-null int64\n",
      "KitchenAbvGr     1460 non-null int64\n",
      "KitchenQual      1460 non-null object\n",
      "TotRmsAbvGrd     1460 non-null int64\n",
      "Functional       1460 non-null object\n",
      "Fireplaces       1460 non-null int64\n",
      "FireplaceQu      770 non-null object\n",
      "GarageType       1379 non-null object\n",
      "GarageYrBlt      1379 non-null float64\n",
      "GarageFinish     1379 non-null object\n",
      "GarageCars       1460 non-null int64\n",
      "GarageArea       1460 non-null int64\n",
      "GarageQual       1379 non-null object\n",
      "GarageCond       1379 non-null object\n",
      "PavedDrive       1460 non-null object\n",
      "WoodDeckSF       1460 non-null int64\n",
      "OpenPorchSF      1460 non-null int64\n",
      "EnclosedPorch    1460 non-null int64\n",
      "3SsnPorch        1460 non-null int64\n",
      "ScreenPorch      1460 non-null int64\n",
      "PoolArea         1460 non-null int64\n",
      "PoolQC           7 non-null object\n",
      "Fence            281 non-null object\n",
      "MiscFeature      54 non-null object\n",
      "MiscVal          1460 non-null int64\n",
      "MoSold           1460 non-null int64\n",
      "YrSold           1460 non-null int64\n",
      "SaleType         1460 non-null object\n",
      "SaleCondition    1460 non-null object\n",
      "SalePrice        1460 non-null int64\n",
      "dtypes: float64(3), int64(35), object(43)\n",
      "memory usage: 924.0+ KB\n"
     ]
    }
   ],
   "source": [
    "train_df.info(5)"
   ]
  },
  {
   "cell_type": "markdown",
   "metadata": {},
   "source": [
    "This dataframe below will allow us to fill our test categorical variables with the mode of the training data."
   ]
  },
  {
   "cell_type": "code",
   "execution_count": 2283,
   "metadata": {},
   "outputs": [],
   "source": [
    "categorical_df = train_df[[\n",
    " 'MSSubClass',\n",
    " 'MSZoning',\n",
    " 'Street',\n",
    " 'Alley',\n",
    " 'Utilities',\n",
    " 'Neighborhood',\n",
    " 'Condition1',\n",
    " 'Condition2',\n",
    " 'YearRemodAdd',\n",
    " 'Exterior1st',\n",
    " 'Exterior2nd',\n",
    " 'ExterQual',\n",
    " 'ExterCond',\n",
    " 'Foundation',\n",
    " 'BsmtQual',\n",
    " 'BsmtCond',\n",
    " 'BsmtExposure',\n",
    " 'BsmtFullBath',\n",
    " 'BsmtHalfBath',\n",
    " 'FullBath',\n",
    " 'HalfBath',\n",
    " 'BedroomAbvGr',\n",
    " 'TotRmsAbvGrd',\n",
    " 'GarageCars',\n",
    " 'GarageQual',\n",
    " 'PoolQC',\n",
    " 'Fence',\n",
    " 'MiscFeature',\n",
    " 'MoSold',\n",
    " 'YrSold',\n",
    " 'SaleType',\n",
    " 'SaleCondition']].copy()"
   ]
  },
  {
   "cell_type": "code",
   "execution_count": null,
   "metadata": {
    "collapsed": true
   },
   "outputs": [],
   "source": []
  },
  {
   "cell_type": "code",
   "execution_count": null,
   "metadata": {
    "collapsed": true
   },
   "outputs": [],
   "source": []
  },
  {
   "cell_type": "code",
   "execution_count": null,
   "metadata": {
    "collapsed": true
   },
   "outputs": [],
   "source": []
  },
  {
   "cell_type": "code",
   "execution_count": null,
   "metadata": {
    "collapsed": true
   },
   "outputs": [],
   "source": []
  },
  {
   "cell_type": "code",
   "execution_count": null,
   "metadata": {
    "collapsed": true
   },
   "outputs": [],
   "source": []
  },
  {
   "cell_type": "code",
   "execution_count": 2284,
   "metadata": {
    "collapsed": true
   },
   "outputs": [],
   "source": [
    "from sklearn.linear_model import SGDRegressor\n",
    "from sklearn.metrics import mean_squared_error\n",
    "from sklearn.preprocessing import StandardScaler"
   ]
  },
  {
   "cell_type": "code",
   "execution_count": null,
   "metadata": {
    "collapsed": true
   },
   "outputs": [],
   "source": []
  },
  {
   "cell_type": "code",
   "execution_count": 2285,
   "metadata": {},
   "outputs": [
    {
     "data": {
      "text/plain": [
       "['LotArea',\n",
       " 'MasVnrArea',\n",
       " 'BsmtFinSF1',\n",
       " 'BsmtFinSF2',\n",
       " 'BsmtUnfSF',\n",
       " 'TotalBsmtSF',\n",
       " '1stFlrSF',\n",
       " '2ndFlrSF',\n",
       " 'LowQualFinSF',\n",
       " 'GrLivArea',\n",
       " 'GarageArea',\n",
       " 'WoodDeckSF',\n",
       " 'OpenPorchSF',\n",
       " 'PoolArea',\n",
       " 'LotFrontage',\n",
       " 'MiscVal',\n",
       " 'EnclosedPorch',\n",
       " '3SsnPorch',\n",
       " 'ScreenPorch',\n",
       " 'OverallQual',\n",
       " 'OverallCond',\n",
       " 'YearBuilt',\n",
       " 'SalePrice']"
      ]
     },
     "execution_count": 2285,
     "metadata": {},
     "output_type": "execute_result"
    }
   ],
   "source": [
    "numeric_cols = [x for x in train_df.columns if ('Area' in x) | ('SF' in x)] + ['LotFrontage','MiscVal','EnclosedPorch','3SsnPorch','ScreenPorch','OverallQual','OverallCond','YearBuilt','SalePrice']\n",
    "\n",
    "for col in numeric_cols:\n",
    "    train_df[col] = train_df[col].astype(float)\n",
    "numeric_cols"
   ]
  },
  {
   "cell_type": "markdown",
   "metadata": {},
   "source": [
    "Let's fill the numeric columns with the mean of that column:"
   ]
  },
  {
   "cell_type": "code",
   "execution_count": 2286,
   "metadata": {
    "collapsed": true
   },
   "outputs": [],
   "source": [
    "def calc_mean_and_fill(df, column_name):     \n",
    "    mean = df[column_name].mean()     \n",
    "    df[column_name] = df[column_name].fillna(mean)\n",
    "    \n",
    "columns = ['LotArea',\n",
    " 'MasVnrArea',\n",
    " 'BsmtFinSF1',\n",
    " 'BsmtFinSF2',\n",
    " 'BsmtUnfSF',\n",
    " 'TotalBsmtSF',\n",
    " '1stFlrSF',\n",
    " '2ndFlrSF',\n",
    " 'LowQualFinSF',\n",
    " 'GrLivArea',\n",
    " 'GarageArea',\n",
    " 'WoodDeckSF',\n",
    " 'OpenPorchSF',\n",
    " 'PoolArea',\n",
    " 'LotFrontage',\n",
    " 'MiscVal',\n",
    " 'EnclosedPorch',\n",
    " '3SsnPorch',\n",
    " 'ScreenPorch',\n",
    " 'OverallQual',\n",
    " 'OverallCond',\n",
    " 'YearBuilt'] \n",
    "for c in columns:     \n",
    "    calc_mean_and_fill(train_df, c)"
   ]
  },
  {
   "cell_type": "markdown",
   "metadata": {},
   "source": [
    "These next categorical variables will be filled with the mode."
   ]
  },
  {
   "cell_type": "code",
   "execution_count": 2287,
   "metadata": {
    "collapsed": true
   },
   "outputs": [],
   "source": [
    "train_df = train_df.fillna(train_df['Utilities'].value_counts().index[0])"
   ]
  },
  {
   "cell_type": "code",
   "execution_count": 2288,
   "metadata": {
    "collapsed": true
   },
   "outputs": [],
   "source": [
    "train_df = train_df.fillna(train_df['Neighborhood'].value_counts().index[0])"
   ]
  },
  {
   "cell_type": "code",
   "execution_count": 2289,
   "metadata": {
    "collapsed": true
   },
   "outputs": [],
   "source": [
    "train_df = train_df.fillna(train_df['Condition1'].value_counts().index[0])"
   ]
  },
  {
   "cell_type": "code",
   "execution_count": 2290,
   "metadata": {
    "collapsed": true
   },
   "outputs": [],
   "source": [
    "train_df = train_df.fillna(train_df['Condition2'].value_counts().index[0])"
   ]
  },
  {
   "cell_type": "code",
   "execution_count": 2291,
   "metadata": {
    "collapsed": true
   },
   "outputs": [],
   "source": [
    "train_df = train_df.fillna(train_df['YearRemodAdd'].value_counts().index[0])"
   ]
  },
  {
   "cell_type": "code",
   "execution_count": 2292,
   "metadata": {
    "collapsed": true
   },
   "outputs": [],
   "source": [
    "train_df = train_df.fillna(train_df['Exterior1st'].value_counts().index[0])"
   ]
  },
  {
   "cell_type": "code",
   "execution_count": 2293,
   "metadata": {
    "collapsed": true
   },
   "outputs": [],
   "source": [
    "train_df = train_df.fillna(train_df['Exterior2nd'].value_counts().index[0])"
   ]
  },
  {
   "cell_type": "code",
   "execution_count": 2294,
   "metadata": {
    "collapsed": true
   },
   "outputs": [],
   "source": [
    "train_df = train_df.fillna(train_df['ExterQual'].value_counts().index[0])"
   ]
  },
  {
   "cell_type": "code",
   "execution_count": 2295,
   "metadata": {
    "collapsed": true
   },
   "outputs": [],
   "source": [
    "train_df = train_df.fillna(train_df['ExterCond'].value_counts().index[0])"
   ]
  },
  {
   "cell_type": "code",
   "execution_count": 2296,
   "metadata": {
    "collapsed": true
   },
   "outputs": [],
   "source": [
    "train_df = train_df.fillna(train_df['Foundation'].value_counts().index[0])"
   ]
  },
  {
   "cell_type": "code",
   "execution_count": 2297,
   "metadata": {
    "collapsed": true
   },
   "outputs": [],
   "source": [
    "train_df = train_df.fillna(train_df['BsmtQual'].value_counts().index[0])"
   ]
  },
  {
   "cell_type": "code",
   "execution_count": 2298,
   "metadata": {
    "collapsed": true
   },
   "outputs": [],
   "source": [
    "train_df = train_df.fillna(train_df['BsmtCond'].value_counts().index[0])"
   ]
  },
  {
   "cell_type": "code",
   "execution_count": 2299,
   "metadata": {
    "collapsed": true
   },
   "outputs": [],
   "source": [
    "train_df = train_df.fillna(train_df['BsmtExposure'].value_counts().index[0])"
   ]
  },
  {
   "cell_type": "code",
   "execution_count": 2300,
   "metadata": {
    "collapsed": true
   },
   "outputs": [],
   "source": [
    "train_df = train_df.fillna(train_df['FullBath'].value_counts().index[0])"
   ]
  },
  {
   "cell_type": "code",
   "execution_count": 2301,
   "metadata": {
    "collapsed": true
   },
   "outputs": [],
   "source": [
    "train_df = train_df.fillna(train_df['HalfBath'].value_counts().index[0])"
   ]
  },
  {
   "cell_type": "code",
   "execution_count": 2302,
   "metadata": {
    "collapsed": true
   },
   "outputs": [],
   "source": [
    "train_df = train_df.fillna(train_df['BedroomAbvGr'].value_counts().index[0])"
   ]
  },
  {
   "cell_type": "code",
   "execution_count": 2303,
   "metadata": {
    "collapsed": true
   },
   "outputs": [],
   "source": [
    "train_df = train_df.fillna(train_df['TotRmsAbvGrd'].value_counts().index[0])"
   ]
  },
  {
   "cell_type": "code",
   "execution_count": 2304,
   "metadata": {
    "collapsed": true
   },
   "outputs": [],
   "source": [
    "train_df = train_df.fillna(train_df['GarageCars'].value_counts().index[0])"
   ]
  },
  {
   "cell_type": "code",
   "execution_count": 2305,
   "metadata": {
    "collapsed": true
   },
   "outputs": [],
   "source": [
    "train_df = train_df.fillna(train_df['GarageQual'].value_counts().index[0])"
   ]
  },
  {
   "cell_type": "code",
   "execution_count": 2306,
   "metadata": {
    "collapsed": true
   },
   "outputs": [],
   "source": [
    "train_df = train_df.fillna(train_df['PoolQC'].value_counts().index[0])"
   ]
  },
  {
   "cell_type": "code",
   "execution_count": 2307,
   "metadata": {
    "collapsed": true
   },
   "outputs": [],
   "source": [
    "train_df = train_df.fillna(train_df['Fence'].value_counts().index[0])"
   ]
  },
  {
   "cell_type": "code",
   "execution_count": 2308,
   "metadata": {
    "collapsed": true
   },
   "outputs": [],
   "source": [
    "train_df = train_df.fillna(train_df['MiscFeature'].value_counts().index[0])"
   ]
  },
  {
   "cell_type": "code",
   "execution_count": 2309,
   "metadata": {
    "collapsed": true
   },
   "outputs": [],
   "source": [
    "train_df = train_df.fillna(train_df['MoSold'].value_counts().index[0])"
   ]
  },
  {
   "cell_type": "code",
   "execution_count": 2310,
   "metadata": {
    "collapsed": true
   },
   "outputs": [],
   "source": [
    "train_df = train_df.fillna(train_df['YrSold'].value_counts().index[0])"
   ]
  },
  {
   "cell_type": "code",
   "execution_count": 2311,
   "metadata": {
    "collapsed": true
   },
   "outputs": [],
   "source": [
    "train_df = train_df.fillna(train_df['SaleType'].value_counts().index[0])"
   ]
  },
  {
   "cell_type": "code",
   "execution_count": 2312,
   "metadata": {
    "collapsed": true
   },
   "outputs": [],
   "source": [
    "train_df = train_df.fillna(train_df['SaleCondition'].value_counts().index[0])"
   ]
  },
  {
   "cell_type": "code",
   "execution_count": 2313,
   "metadata": {
    "collapsed": true
   },
   "outputs": [],
   "source": [
    "train_df = train_df.fillna(train_df['MSZoning'].value_counts().index[0])"
   ]
  },
  {
   "cell_type": "code",
   "execution_count": 2314,
   "metadata": {
    "collapsed": true
   },
   "outputs": [],
   "source": [
    "train_df = train_df.fillna(train_df['MSSubClass'].value_counts().index[0])"
   ]
  },
  {
   "cell_type": "code",
   "execution_count": 2315,
   "metadata": {
    "collapsed": true
   },
   "outputs": [],
   "source": [
    "train_df = train_df.fillna(train_df['Street'].value_counts().index[0])"
   ]
  },
  {
   "cell_type": "code",
   "execution_count": 2316,
   "metadata": {
    "collapsed": true
   },
   "outputs": [],
   "source": [
    "train_df = train_df.fillna(train_df['Alley'].value_counts().index[0])"
   ]
  },
  {
   "cell_type": "markdown",
   "metadata": {},
   "source": [
    "Classifying the categorical values as categorical:"
   ]
  },
  {
   "cell_type": "code",
   "execution_count": 2317,
   "metadata": {},
   "outputs": [
    {
     "data": {
      "text/plain": [
       "['Id',\n",
       " 'MSSubClass',\n",
       " 'MSZoning',\n",
       " 'Street',\n",
       " 'Alley',\n",
       " 'LotShape',\n",
       " 'LandContour',\n",
       " 'Utilities',\n",
       " 'LotConfig',\n",
       " 'LandSlope',\n",
       " 'Neighborhood',\n",
       " 'Condition1',\n",
       " 'Condition2',\n",
       " 'BldgType',\n",
       " 'HouseStyle',\n",
       " 'YearRemodAdd',\n",
       " 'RoofStyle',\n",
       " 'RoofMatl',\n",
       " 'Exterior1st',\n",
       " 'Exterior2nd',\n",
       " 'MasVnrType',\n",
       " 'ExterQual',\n",
       " 'ExterCond',\n",
       " 'Foundation',\n",
       " 'BsmtQual',\n",
       " 'BsmtCond',\n",
       " 'BsmtExposure',\n",
       " 'BsmtFinType1',\n",
       " 'BsmtFinType2',\n",
       " 'Heating',\n",
       " 'HeatingQC',\n",
       " 'CentralAir',\n",
       " 'Electrical',\n",
       " 'BsmtFullBath',\n",
       " 'BsmtHalfBath',\n",
       " 'FullBath',\n",
       " 'HalfBath',\n",
       " 'BedroomAbvGr',\n",
       " 'KitchenAbvGr',\n",
       " 'KitchenQual',\n",
       " 'TotRmsAbvGrd',\n",
       " 'Functional',\n",
       " 'Fireplaces',\n",
       " 'FireplaceQu',\n",
       " 'GarageType',\n",
       " 'GarageYrBlt',\n",
       " 'GarageFinish',\n",
       " 'GarageCars',\n",
       " 'GarageQual',\n",
       " 'GarageCond',\n",
       " 'PavedDrive',\n",
       " 'PoolQC',\n",
       " 'Fence',\n",
       " 'MiscFeature',\n",
       " 'MoSold',\n",
       " 'YrSold',\n",
       " 'SaleType',\n",
       " 'SaleCondition']"
      ]
     },
     "execution_count": 2317,
     "metadata": {},
     "output_type": "execute_result"
    }
   ],
   "source": [
    "categorical_cols = [x for x in train_df.columns if x not in numeric_cols]\n",
    "\n",
    "for col in categorical_cols:\n",
    "    train_df[col] = train_df[col].astype('category')\n",
    "categorical_cols"
   ]
  },
  {
   "cell_type": "markdown",
   "metadata": {},
   "source": [
    "Let's get some dummy variables:"
   ]
  },
  {
   "cell_type": "code",
   "execution_count": 2318,
   "metadata": {
    "collapsed": true
   },
   "outputs": [],
   "source": [
    "small_df = train_df[['MSZoning']].copy()\n",
    "small_df['MSZoning'] = small_df['MSZoning'].astype('category')\n",
    "new_small_df = pd.get_dummies(small_df)\n",
    "del train_df['MSZoning']\n",
    "train_df = train_df.join(new_small_df)"
   ]
  },
  {
   "cell_type": "code",
   "execution_count": 2319,
   "metadata": {
    "collapsed": true
   },
   "outputs": [],
   "source": [
    "small_df = train_df[['MSSubClass']].copy()\n",
    "small_df['MSSubClass'] = small_df['MSSubClass'].astype('category')\n",
    "new_small_df = pd.get_dummies(small_df)\n",
    "del train_df['MSSubClass']\n",
    "train_df = train_df.join(new_small_df)"
   ]
  },
  {
   "cell_type": "code",
   "execution_count": 2320,
   "metadata": {
    "collapsed": true
   },
   "outputs": [],
   "source": [
    "small_df = train_df[['Street']].copy()\n",
    "small_df['Street'] = small_df['Street'].astype('category')\n",
    "new_small_df = pd.get_dummies(small_df)\n",
    "del train_df['Street']\n",
    "train_df = train_df.join(new_small_df)"
   ]
  },
  {
   "cell_type": "code",
   "execution_count": 2321,
   "metadata": {
    "collapsed": true
   },
   "outputs": [],
   "source": [
    "small_df = train_df[['Alley']].copy()\n",
    "small_df['Alley'] = small_df['Alley'].astype('category')\n",
    "new_small_df = pd.get_dummies(small_df)\n",
    "del train_df['Alley']\n",
    "train_df = train_df.join(new_small_df)"
   ]
  },
  {
   "cell_type": "code",
   "execution_count": 2322,
   "metadata": {
    "collapsed": true
   },
   "outputs": [],
   "source": [
    "small_df = train_df[['Utilities']].copy()\n",
    "small_df['Utilities'] = small_df['Utilities'].astype('category')\n",
    "new_small_df = pd.get_dummies(small_df)\n",
    "del train_df['Utilities']\n",
    "train_df = train_df.join(new_small_df)"
   ]
  },
  {
   "cell_type": "code",
   "execution_count": 2323,
   "metadata": {
    "collapsed": true
   },
   "outputs": [],
   "source": [
    "small_df = train_df[['Neighborhood']].copy()\n",
    "small_df['Neighborhood'] = small_df['Neighborhood'].astype('category')\n",
    "new_small_df = pd.get_dummies(small_df)\n",
    "del train_df['Neighborhood']\n",
    "train_df = train_df.join(new_small_df)"
   ]
  },
  {
   "cell_type": "code",
   "execution_count": 2324,
   "metadata": {
    "collapsed": true
   },
   "outputs": [],
   "source": [
    "small_df = train_df[['Condition1']].copy()\n",
    "small_df['Condition1'] = small_df['Condition1'].astype('category')\n",
    "new_small_df = pd.get_dummies(small_df)\n",
    "del train_df['Condition1']\n",
    "train_df = train_df.join(new_small_df)"
   ]
  },
  {
   "cell_type": "code",
   "execution_count": 2325,
   "metadata": {
    "collapsed": true
   },
   "outputs": [],
   "source": [
    "small_df = train_df[['Condition2']].copy()\n",
    "small_df['Condition2'] = small_df['Condition2'].astype('category')\n",
    "new_small_df = pd.get_dummies(small_df)\n",
    "del train_df['Condition2']\n",
    "train_df = train_df.join(new_small_df)"
   ]
  },
  {
   "cell_type": "code",
   "execution_count": 2326,
   "metadata": {
    "collapsed": true
   },
   "outputs": [],
   "source": [
    "small_df = train_df[['YearRemodAdd']].copy()\n",
    "small_df['YearRemodAdd'] = small_df['YearRemodAdd'].astype('category')\n",
    "new_small_df = pd.get_dummies(small_df)\n",
    "del train_df['YearRemodAdd']\n",
    "train_df = train_df.join(new_small_df)"
   ]
  },
  {
   "cell_type": "code",
   "execution_count": 2327,
   "metadata": {
    "collapsed": true
   },
   "outputs": [],
   "source": [
    "small_df = train_df[['Exterior1st']].copy()\n",
    "small_df['Exterior1st'] = small_df['Exterior1st'].astype('category')\n",
    "new_small_df = pd.get_dummies(small_df)\n",
    "del train_df['Exterior1st']\n",
    "train_df = train_df.join(new_small_df)"
   ]
  },
  {
   "cell_type": "code",
   "execution_count": 2328,
   "metadata": {
    "collapsed": true
   },
   "outputs": [],
   "source": [
    "small_df = train_df[['Exterior2nd']].copy()\n",
    "small_df['Exterior2nd'] = small_df['Exterior2nd'].astype('category')\n",
    "new_small_df = pd.get_dummies(small_df)\n",
    "del train_df['Exterior2nd']\n",
    "train_df = train_df.join(new_small_df)"
   ]
  },
  {
   "cell_type": "code",
   "execution_count": 2329,
   "metadata": {
    "collapsed": true
   },
   "outputs": [],
   "source": [
    "small_df = train_df[['ExterQual']].copy()\n",
    "small_df['ExterQual'] = small_df['ExterQual'].astype('category')\n",
    "new_small_df = pd.get_dummies(small_df)\n",
    "del train_df['ExterQual']\n",
    "train_df = train_df.join(new_small_df)"
   ]
  },
  {
   "cell_type": "code",
   "execution_count": 2330,
   "metadata": {
    "collapsed": true
   },
   "outputs": [],
   "source": [
    "small_df = train_df[['ExterCond']].copy()\n",
    "small_df['ExterCond'] = small_df['ExterCond'].astype('category')\n",
    "new_small_df = pd.get_dummies(small_df)\n",
    "del train_df['ExterCond']\n",
    "train_df = train_df.join(new_small_df)"
   ]
  },
  {
   "cell_type": "code",
   "execution_count": 2331,
   "metadata": {
    "collapsed": true
   },
   "outputs": [],
   "source": [
    "small_df = train_df[['Foundation']].copy()\n",
    "small_df['Foundation'] = small_df['Foundation'].astype('category')\n",
    "new_small_df = pd.get_dummies(small_df)\n",
    "del train_df['Foundation']\n",
    "train_df = train_df.join(new_small_df)"
   ]
  },
  {
   "cell_type": "code",
   "execution_count": 2332,
   "metadata": {
    "collapsed": true
   },
   "outputs": [],
   "source": [
    "small_df = train_df[['BsmtQual']].copy()\n",
    "small_df['BsmtQual'] = small_df['BsmtQual'].astype('category')\n",
    "new_small_df = pd.get_dummies(small_df)\n",
    "del train_df['BsmtQual']\n",
    "train_df = train_df.join(new_small_df)"
   ]
  },
  {
   "cell_type": "code",
   "execution_count": 2333,
   "metadata": {
    "collapsed": true
   },
   "outputs": [],
   "source": [
    "small_df = train_df[['BsmtCond']].copy()\n",
    "small_df['BsmtCond'] = small_df['BsmtCond'].astype('category')\n",
    "new_small_df = pd.get_dummies(small_df)\n",
    "del train_df['BsmtCond']\n",
    "train_df = train_df.join(new_small_df)"
   ]
  },
  {
   "cell_type": "code",
   "execution_count": 2334,
   "metadata": {
    "collapsed": true
   },
   "outputs": [],
   "source": [
    "small_df = train_df[['BsmtExposure']].copy()\n",
    "small_df['BsmtExposure'] = small_df['BsmtExposure'].astype('category')\n",
    "new_small_df = pd.get_dummies(small_df)\n",
    "del train_df['BsmtExposure']\n",
    "train_df = train_df.join(new_small_df)"
   ]
  },
  {
   "cell_type": "code",
   "execution_count": 2335,
   "metadata": {
    "collapsed": true
   },
   "outputs": [],
   "source": [
    "small_df = train_df[['FullBath']].copy()\n",
    "small_df['FullBath'] = small_df['FullBath'].astype('category')\n",
    "new_small_df = pd.get_dummies(small_df)\n",
    "del train_df['FullBath']\n",
    "train_df = train_df.join(new_small_df)"
   ]
  },
  {
   "cell_type": "code",
   "execution_count": 2336,
   "metadata": {
    "collapsed": true
   },
   "outputs": [],
   "source": [
    "small_df = train_df[['HalfBath']].copy()\n",
    "small_df['HalfBath'] = small_df['HalfBath'].astype('category')\n",
    "new_small_df = pd.get_dummies(small_df)\n",
    "del train_df['HalfBath']\n",
    "train_df = train_df.join(new_small_df)"
   ]
  },
  {
   "cell_type": "code",
   "execution_count": 2337,
   "metadata": {
    "collapsed": true
   },
   "outputs": [],
   "source": [
    "small_df = train_df[['BedroomAbvGr']].copy()\n",
    "small_df['BedroomAbvGr'] = small_df['BedroomAbvGr'].astype('category')\n",
    "new_small_df = pd.get_dummies(small_df)\n",
    "del train_df['BedroomAbvGr']\n",
    "train_df = train_df.join(new_small_df)"
   ]
  },
  {
   "cell_type": "code",
   "execution_count": 2338,
   "metadata": {
    "collapsed": true
   },
   "outputs": [],
   "source": [
    "small_df = train_df[['TotRmsAbvGrd']].copy()\n",
    "small_df['TotRmsAbvGrd'] = small_df['TotRmsAbvGrd'].astype('category')\n",
    "new_small_df = pd.get_dummies(small_df)\n",
    "del train_df['TotRmsAbvGrd']\n",
    "train_df = train_df.join(new_small_df)"
   ]
  },
  {
   "cell_type": "code",
   "execution_count": 2339,
   "metadata": {
    "collapsed": true
   },
   "outputs": [],
   "source": [
    "small_df = train_df[['GarageCars']].copy()\n",
    "small_df['GarageCars'] = small_df['GarageCars'].astype('category')\n",
    "new_small_df = pd.get_dummies(small_df)\n",
    "del train_df['GarageCars']\n",
    "train_df = train_df.join(new_small_df)"
   ]
  },
  {
   "cell_type": "code",
   "execution_count": 2340,
   "metadata": {
    "collapsed": true
   },
   "outputs": [],
   "source": [
    "small_df = train_df[['GarageQual']].copy()\n",
    "small_df['GarageQual'] = small_df['GarageQual'].astype('category')\n",
    "new_small_df = pd.get_dummies(small_df)\n",
    "del train_df['GarageQual']\n",
    "train_df = train_df.join(new_small_df)"
   ]
  },
  {
   "cell_type": "code",
   "execution_count": 2341,
   "metadata": {
    "collapsed": true
   },
   "outputs": [],
   "source": [
    "small_df = train_df[['PoolQC']].copy()\n",
    "small_df['PoolQC'] = small_df['PoolQC'].astype('category')\n",
    "new_small_df = pd.get_dummies(small_df)\n",
    "del train_df['PoolQC']\n",
    "train_df = train_df.join(new_small_df)"
   ]
  },
  {
   "cell_type": "code",
   "execution_count": 2342,
   "metadata": {
    "collapsed": true
   },
   "outputs": [],
   "source": [
    "small_df = train_df[['Fence']].copy()\n",
    "small_df['Fence'] = small_df['Fence'].astype('category')\n",
    "new_small_df = pd.get_dummies(small_df)\n",
    "del train_df['Fence']\n",
    "train_df = train_df.join(new_small_df)"
   ]
  },
  {
   "cell_type": "code",
   "execution_count": 2343,
   "metadata": {
    "collapsed": true
   },
   "outputs": [],
   "source": [
    "small_df = train_df[['MiscFeature']].copy()\n",
    "small_df['MiscFeature'] = small_df['MiscFeature'].astype('category')\n",
    "new_small_df = pd.get_dummies(small_df)\n",
    "del train_df['MiscFeature']\n",
    "train_df = train_df.join(new_small_df)"
   ]
  },
  {
   "cell_type": "code",
   "execution_count": 2344,
   "metadata": {
    "collapsed": true
   },
   "outputs": [],
   "source": [
    "small_df = train_df[['MoSold']].copy()\n",
    "small_df['MoSold'] = small_df['MoSold'].astype('category')\n",
    "new_small_df = pd.get_dummies(small_df)\n",
    "del train_df['MoSold']\n",
    "train_df = train_df.join(new_small_df)"
   ]
  },
  {
   "cell_type": "code",
   "execution_count": 2345,
   "metadata": {
    "collapsed": true
   },
   "outputs": [],
   "source": [
    "small_df = train_df[['YrSold']].copy()\n",
    "small_df['YrSold'] = small_df['YrSold'].astype('category')\n",
    "new_small_df = pd.get_dummies(small_df)\n",
    "del train_df['YrSold']\n",
    "train_df = train_df.join(new_small_df)"
   ]
  },
  {
   "cell_type": "code",
   "execution_count": 2346,
   "metadata": {
    "collapsed": true
   },
   "outputs": [],
   "source": [
    "small_df = train_df[['SaleType']].copy()\n",
    "small_df['SaleType'] = small_df['SaleType'].astype('category')\n",
    "new_small_df = pd.get_dummies(small_df)\n",
    "del train_df['SaleType']\n",
    "train_df = train_df.join(new_small_df)"
   ]
  },
  {
   "cell_type": "code",
   "execution_count": 2347,
   "metadata": {
    "collapsed": true
   },
   "outputs": [],
   "source": [
    "small_df = train_df[['SaleCondition']].copy()\n",
    "small_df['SaleCondition'] = small_df['SaleCondition'].astype('category')\n",
    "new_small_df = pd.get_dummies(small_df)\n",
    "del train_df['SaleCondition']\n",
    "train_df = train_df.join(new_small_df)"
   ]
  },
  {
   "cell_type": "markdown",
   "metadata": {},
   "source": [
    "The following data is being deleted to avoid having more variable columns than observations, which will bias our data."
   ]
  },
  {
   "cell_type": "code",
   "execution_count": 2348,
   "metadata": {
    "collapsed": true
   },
   "outputs": [],
   "source": [
    "del train_df['LotShape']\n",
    "del train_df['LandContour']\n",
    "del train_df['LotConfig']\n",
    "del train_df['LandSlope']\n",
    "del train_df['BldgType']\n",
    "del train_df['HouseStyle']\n",
    "del train_df['RoofStyle']\n",
    "del train_df['RoofMatl']\n",
    "del train_df['MasVnrType']\n",
    "del train_df['BsmtFinType1']\n",
    "del train_df['BsmtFinType2']\n",
    "del train_df['Heating']\n",
    "del train_df['HeatingQC']\n",
    "del train_df['CentralAir']\n",
    "del train_df['Electrical']\n",
    "del train_df['BsmtFullBath']\n",
    "del train_df['BsmtHalfBath']\n",
    "del train_df['KitchenAbvGr']\n",
    "del train_df['KitchenQual']\n",
    "del train_df['Functional']\n",
    "del train_df['Fireplaces']\n",
    "del train_df['FireplaceQu']\n",
    "del train_df['GarageType']\n",
    "del train_df['GarageYrBlt']\n",
    "del train_df['GarageFinish']\n",
    "del train_df['GarageCond']\n",
    "del train_df['PavedDrive']"
   ]
  },
  {
   "cell_type": "markdown",
   "metadata": {},
   "source": [
    "These columns are being deleeted for simplicity's sake, as I was unaware it was important to combine the test and training data to get dummies, and it was too late to switch my code by the time I found out."
   ]
  },
  {
   "cell_type": "code",
   "execution_count": 2349,
   "metadata": {},
   "outputs": [],
   "source": [
    "del train_df['BedroomAbvGr_8']\n",
    "del train_df['Condition2_RRAe']\n",
    "del train_df['Condition2_RRAn']\n",
    "del train_df['Condition2_RRNn']\n",
    "del train_df['Exterior1st_ImStucc']\n",
    "del train_df['Exterior1st_Stone']\n",
    "del train_df['Exterior2nd_Other']\n",
    "del train_df['GarageCars_0']\n",
    "del train_df['GarageCars_1']\n",
    "del train_df['GarageCars_2']\n",
    "del train_df['GarageCars_3']\n",
    "del train_df['GarageCars_4']\n",
    "del train_df['GarageQual_Ex']\n",
    "del train_df['MiscFeature_TenC']\n",
    "del train_df['PoolQC_Fa']\n",
    "del train_df['TotRmsAbvGrd_14']\n",
    "del train_df['TotRmsAbvGrd_2']\n",
    "del train_df['Utilities_NoSeWa']"
   ]
  },
  {
   "cell_type": "code",
   "execution_count": 2350,
   "metadata": {},
   "outputs": [
    {
     "data": {
      "text/html": [
       "<div>\n",
       "<style>\n",
       "    .dataframe thead tr:only-child th {\n",
       "        text-align: right;\n",
       "    }\n",
       "\n",
       "    .dataframe thead th {\n",
       "        text-align: left;\n",
       "    }\n",
       "\n",
       "    .dataframe tbody tr th {\n",
       "        vertical-align: top;\n",
       "    }\n",
       "</style>\n",
       "<table border=\"1\" class=\"dataframe\">\n",
       "  <thead>\n",
       "    <tr style=\"text-align: right;\">\n",
       "      <th></th>\n",
       "      <th>Id</th>\n",
       "      <th>LotFrontage</th>\n",
       "      <th>LotArea</th>\n",
       "      <th>OverallQual</th>\n",
       "      <th>OverallCond</th>\n",
       "      <th>YearBuilt</th>\n",
       "      <th>MasVnrArea</th>\n",
       "      <th>BsmtFinSF1</th>\n",
       "      <th>BsmtFinSF2</th>\n",
       "      <th>BsmtUnfSF</th>\n",
       "      <th>...</th>\n",
       "      <th>SaleType_ConLw</th>\n",
       "      <th>SaleType_New</th>\n",
       "      <th>SaleType_Oth</th>\n",
       "      <th>SaleType_WD</th>\n",
       "      <th>SaleCondition_Abnorml</th>\n",
       "      <th>SaleCondition_AdjLand</th>\n",
       "      <th>SaleCondition_Alloca</th>\n",
       "      <th>SaleCondition_Family</th>\n",
       "      <th>SaleCondition_Normal</th>\n",
       "      <th>SaleCondition_Partial</th>\n",
       "    </tr>\n",
       "  </thead>\n",
       "  <tbody>\n",
       "    <tr>\n",
       "      <th>0</th>\n",
       "      <td>1</td>\n",
       "      <td>65.0</td>\n",
       "      <td>8450.0</td>\n",
       "      <td>7.0</td>\n",
       "      <td>5.0</td>\n",
       "      <td>2003.0</td>\n",
       "      <td>196.0</td>\n",
       "      <td>706.0</td>\n",
       "      <td>0.0</td>\n",
       "      <td>150.0</td>\n",
       "      <td>...</td>\n",
       "      <td>0</td>\n",
       "      <td>0</td>\n",
       "      <td>0</td>\n",
       "      <td>1</td>\n",
       "      <td>0</td>\n",
       "      <td>0</td>\n",
       "      <td>0</td>\n",
       "      <td>0</td>\n",
       "      <td>1</td>\n",
       "      <td>0</td>\n",
       "    </tr>\n",
       "    <tr>\n",
       "      <th>1</th>\n",
       "      <td>2</td>\n",
       "      <td>80.0</td>\n",
       "      <td>9600.0</td>\n",
       "      <td>6.0</td>\n",
       "      <td>8.0</td>\n",
       "      <td>1976.0</td>\n",
       "      <td>0.0</td>\n",
       "      <td>978.0</td>\n",
       "      <td>0.0</td>\n",
       "      <td>284.0</td>\n",
       "      <td>...</td>\n",
       "      <td>0</td>\n",
       "      <td>0</td>\n",
       "      <td>0</td>\n",
       "      <td>1</td>\n",
       "      <td>0</td>\n",
       "      <td>0</td>\n",
       "      <td>0</td>\n",
       "      <td>0</td>\n",
       "      <td>1</td>\n",
       "      <td>0</td>\n",
       "    </tr>\n",
       "    <tr>\n",
       "      <th>2</th>\n",
       "      <td>3</td>\n",
       "      <td>68.0</td>\n",
       "      <td>11250.0</td>\n",
       "      <td>7.0</td>\n",
       "      <td>5.0</td>\n",
       "      <td>2001.0</td>\n",
       "      <td>162.0</td>\n",
       "      <td>486.0</td>\n",
       "      <td>0.0</td>\n",
       "      <td>434.0</td>\n",
       "      <td>...</td>\n",
       "      <td>0</td>\n",
       "      <td>0</td>\n",
       "      <td>0</td>\n",
       "      <td>1</td>\n",
       "      <td>0</td>\n",
       "      <td>0</td>\n",
       "      <td>0</td>\n",
       "      <td>0</td>\n",
       "      <td>1</td>\n",
       "      <td>0</td>\n",
       "    </tr>\n",
       "    <tr>\n",
       "      <th>3</th>\n",
       "      <td>4</td>\n",
       "      <td>60.0</td>\n",
       "      <td>9550.0</td>\n",
       "      <td>7.0</td>\n",
       "      <td>5.0</td>\n",
       "      <td>1915.0</td>\n",
       "      <td>0.0</td>\n",
       "      <td>216.0</td>\n",
       "      <td>0.0</td>\n",
       "      <td>540.0</td>\n",
       "      <td>...</td>\n",
       "      <td>0</td>\n",
       "      <td>0</td>\n",
       "      <td>0</td>\n",
       "      <td>1</td>\n",
       "      <td>1</td>\n",
       "      <td>0</td>\n",
       "      <td>0</td>\n",
       "      <td>0</td>\n",
       "      <td>0</td>\n",
       "      <td>0</td>\n",
       "    </tr>\n",
       "    <tr>\n",
       "      <th>4</th>\n",
       "      <td>5</td>\n",
       "      <td>84.0</td>\n",
       "      <td>14260.0</td>\n",
       "      <td>8.0</td>\n",
       "      <td>5.0</td>\n",
       "      <td>2000.0</td>\n",
       "      <td>350.0</td>\n",
       "      <td>655.0</td>\n",
       "      <td>0.0</td>\n",
       "      <td>490.0</td>\n",
       "      <td>...</td>\n",
       "      <td>0</td>\n",
       "      <td>0</td>\n",
       "      <td>0</td>\n",
       "      <td>1</td>\n",
       "      <td>0</td>\n",
       "      <td>0</td>\n",
       "      <td>0</td>\n",
       "      <td>0</td>\n",
       "      <td>1</td>\n",
       "      <td>0</td>\n",
       "    </tr>\n",
       "  </tbody>\n",
       "</table>\n",
       "<p>5 rows × 281 columns</p>\n",
       "</div>"
      ],
      "text/plain": [
       "  Id  LotFrontage  LotArea  OverallQual  OverallCond  YearBuilt  MasVnrArea  \\\n",
       "0  1         65.0   8450.0          7.0          5.0     2003.0       196.0   \n",
       "1  2         80.0   9600.0          6.0          8.0     1976.0         0.0   \n",
       "2  3         68.0  11250.0          7.0          5.0     2001.0       162.0   \n",
       "3  4         60.0   9550.0          7.0          5.0     1915.0         0.0   \n",
       "4  5         84.0  14260.0          8.0          5.0     2000.0       350.0   \n",
       "\n",
       "   BsmtFinSF1  BsmtFinSF2  BsmtUnfSF          ...            SaleType_ConLw  \\\n",
       "0       706.0         0.0      150.0          ...                         0   \n",
       "1       978.0         0.0      284.0          ...                         0   \n",
       "2       486.0         0.0      434.0          ...                         0   \n",
       "3       216.0         0.0      540.0          ...                         0   \n",
       "4       655.0         0.0      490.0          ...                         0   \n",
       "\n",
       "   SaleType_New  SaleType_Oth  SaleType_WD  SaleCondition_Abnorml  \\\n",
       "0             0             0            1                      0   \n",
       "1             0             0            1                      0   \n",
       "2             0             0            1                      0   \n",
       "3             0             0            1                      1   \n",
       "4             0             0            1                      0   \n",
       "\n",
       "   SaleCondition_AdjLand  SaleCondition_Alloca  SaleCondition_Family  \\\n",
       "0                      0                     0                     0   \n",
       "1                      0                     0                     0   \n",
       "2                      0                     0                     0   \n",
       "3                      0                     0                     0   \n",
       "4                      0                     0                     0   \n",
       "\n",
       "   SaleCondition_Normal  SaleCondition_Partial  \n",
       "0                     1                      0  \n",
       "1                     1                      0  \n",
       "2                     1                      0  \n",
       "3                     0                      0  \n",
       "4                     1                      0  \n",
       "\n",
       "[5 rows x 281 columns]"
      ]
     },
     "execution_count": 2350,
     "metadata": {},
     "output_type": "execute_result"
    }
   ],
   "source": [
    "train_df.head(5)"
   ]
  },
  {
   "cell_type": "markdown",
   "metadata": {},
   "source": [
    "Let's delineate our training and testing subset in our training data:"
   ]
  },
  {
   "cell_type": "code",
   "execution_count": 2351,
   "metadata": {
    "collapsed": true
   },
   "outputs": [],
   "source": [
    "train_df['LogSalePrice'] = np.log(train_df['SalePrice'])"
   ]
  },
  {
   "cell_type": "code",
   "execution_count": 2352,
   "metadata": {
    "collapsed": true
   },
   "outputs": [],
   "source": [
    "del train_df['SalePrice']"
   ]
  },
  {
   "cell_type": "code",
   "execution_count": 2353,
   "metadata": {
    "collapsed": true
   },
   "outputs": [],
   "source": [
    "inputs = train_df.drop('LogSalePrice', axis = 1)"
   ]
  },
  {
   "cell_type": "code",
   "execution_count": 2354,
   "metadata": {
    "collapsed": true
   },
   "outputs": [],
   "source": [
    "outputs = train_df['LogSalePrice']"
   ]
  },
  {
   "cell_type": "markdown",
   "metadata": {},
   "source": [
    "Now, we will cross-validate, scale, and then try out a couple of different models."
   ]
  },
  {
   "cell_type": "code",
   "execution_count": 2355,
   "metadata": {
    "collapsed": true
   },
   "outputs": [],
   "source": [
    "inputs_train, inputs_test, outputs_train, outputs_test = train_test_split(\n",
    "...     inputs, outputs, test_size=0.2, random_state=42)"
   ]
  },
  {
   "cell_type": "code",
   "execution_count": 2356,
   "metadata": {
    "collapsed": true
   },
   "outputs": [],
   "source": [
    "ss = StandardScaler()\n",
    "inputs = ss.fit_transform(inputs)"
   ]
  },
  {
   "cell_type": "code",
   "execution_count": 2357,
   "metadata": {},
   "outputs": [
    {
     "name": "stdout",
     "output_type": "stream",
     "text": [
      "Train MSE: 4.767443070115534e+32\n",
      "Test MSE: 2.3649331377199925e+32\n"
     ]
    }
   ],
   "source": [
    "linear_regression_model = SGDRegressor(tol=.0001, eta0=.01)\n",
    "linear_regression_model.fit(inputs_train, outputs_train)\n",
    "train_predictions = linear_regression_model.predict(inputs_train)\n",
    "test_predictions = linear_regression_model.predict(inputs_test)\n",
    "\n",
    "train_mse = mean_squared_error(outputs_train, train_predictions)\n",
    "test_mse = mean_squared_error(outputs_test, test_predictions)\n",
    "print(\"Train MSE: {}\".format(train_mse))\n",
    "print(\"Test MSE: {}\".format(test_mse))"
   ]
  },
  {
   "cell_type": "code",
   "execution_count": 2358,
   "metadata": {},
   "outputs": [
    {
     "name": "stdout",
     "output_type": "stream",
     "text": [
      "Best Parameters: {'eta0': 0.001}\n",
      "Best Negative MSE: -2.2101222946257158e+31\n"
     ]
    }
   ],
   "source": [
    "from sklearn.model_selection import RandomizedSearchCV\n",
    "\n",
    "param_dist = {\"eta0\": [ .001, .003, .01, .03, .1, .3, 1, 3]}\n",
    "\n",
    "linear_regression_model = SGDRegressor(tol=.0001)\n",
    "\n",
    "n_iter_search = 8\n",
    "random_search = RandomizedSearchCV(linear_regression_model, param_distributions=param_dist,\n",
    "                                   n_iter=n_iter_search, cv=3, scoring='neg_mean_squared_error')\n",
    "random_search.fit(inputs_train, outputs_train)\n",
    "\n",
    "print(\"Best Parameters: {}\".format(random_search.best_params_))\n",
    "print(\"Best Negative MSE: {}\".format(random_search.best_score_))"
   ]
  },
  {
   "cell_type": "markdown",
   "metadata": {},
   "source": [
    "I'm not too wild about the MSE here, so let's try a different model:"
   ]
  },
  {
   "cell_type": "code",
   "execution_count": 2359,
   "metadata": {},
   "outputs": [
    {
     "name": "stdout",
     "output_type": "stream",
     "text": [
      "Train MSE: 0.017354271291045484\n",
      "Test MSE: 0.020132917816324394\n"
     ]
    }
   ],
   "source": [
    "from sklearn.linear_model import ElasticNetCV\n",
    "clf = ElasticNetCV(l1_ratio=[.1, .5, .7, .9, .95, .99, 1], alphas=[.01, .1, 1, 10, 100, 1000, 10000], max_iter=10000)\n",
    "clf.fit(inputs_train, outputs_train)\n",
    "train_predictions = clf.predict(inputs_train)\n",
    "test_predictions = clf.predict(inputs_test)\n",
    "print(\"Train MSE: {}\".format(mean_squared_error(outputs_train, train_predictions)))\n",
    "print(\"Test MSE: {}\".format(mean_squared_error(outputs_test, test_predictions)))"
   ]
  },
  {
   "cell_type": "markdown",
   "metadata": {},
   "source": [
    "The Elastic net wasn't too bad, but let's try another just for fun:"
   ]
  },
  {
   "cell_type": "code",
   "execution_count": 2361,
   "metadata": {},
   "outputs": [
    {
     "name": "stdout",
     "output_type": "stream",
     "text": [
      "Best Params: {'n_neighbors': 11, 'p': 1, 'weights': 'distance'}\n",
      "Train MSE: 0.0\tTest MSE: 0.04843453952789588\n"
     ]
    }
   ],
   "source": [
    "from sklearn.neighbors import KNeighborsClassifier, KNeighborsRegressor\n",
    "from sklearn.model_selection import GridSearchCV\n",
    "reg = KNeighborsRegressor()\n",
    "gridsearch = GridSearchCV(reg, {\"n_neighbors\": [1, 3, 5, 7, 9, 11], \"weights\": ['uniform', 'distance'], \n",
    "                                'p': [1, 2, 3]}, scoring='neg_mean_squared_error')\n",
    "gridsearch.fit(inputs_train, outputs_train)\n",
    "print(\"Best Params: {}\".format(gridsearch.best_params_))\n",
    "y_pred_train = gridsearch.predict(inputs_train)\n",
    "y_pred_test = gridsearch.predict(inputs_test)\n",
    "print(\"Train MSE: {}\\tTest MSE: {}\".format(mean_squared_error(outputs_train, y_pred_train),\n",
    "                                           mean_squared_error(outputs_test, y_pred_test)))"
   ]
  },
  {
   "cell_type": "markdown",
   "metadata": {},
   "source": [
    "11 Nearest neighbors has the best fit, and further testing revealed that going higher did not improve the MSE. Let's just validate that these house prices look like house prices:"
   ]
  },
  {
   "cell_type": "code",
   "execution_count": 2363,
   "metadata": {},
   "outputs": [],
   "source": [
    "real_predict = np.exp(y_pred_test)"
   ]
  },
  {
   "cell_type": "code",
   "execution_count": 2364,
   "metadata": {},
   "outputs": [
    {
     "name": "stdout",
     "output_type": "stream",
     "text": [
      "[ 138566.80671089  299239.25682249  121170.56388709  134548.86584424\n",
      "  235914.48076636   91826.7558603   207061.78439542  152125.9822401\n",
      "   92256.21500348  159841.85162017  129085.0971295   123884.42365739\n",
      "  144317.44739837  190934.50764551  181149.00564512  117227.00946252\n",
      "  182581.36068482  135437.90136135  106129.21952227  190363.05609036\n",
      "  177048.0037749   174520.89473682  177552.50213293  110525.26028528\n",
      "  176062.48671499  150269.762178    162646.8858636   146223.07927157\n",
      "  192288.31052946  183465.7916728   118356.69310949  271612.14190667\n",
      "  187874.4344541   119433.9781288   203890.81822682  140891.86631407\n",
      "  156158.60718461  166266.13445982  287459.45768509  118702.11769646\n",
      "  106839.16336883  212205.22097302  125127.94800366  281823.72505496\n",
      "  143538.13185182  164991.16653895  119462.03602631  129759.85242826\n",
      "  346672.15490822  156307.67496419  120542.52447792  210755.44313802\n",
      "  135972.97178574  274318.5317145   138107.02961627  281351.76099481\n",
      "  192162.28015248  168866.58189533  141427.83624307  102901.84903692\n",
      "   92714.21449073  139931.11913397  268504.43301965  192044.45243481\n",
      "  267534.45196123  189166.77656263  113179.71962302  261220.54002688\n",
      "  118014.86247127  155528.4016202   108070.18758404  127895.53132007\n",
      "  117123.21252386   98121.37366504  340512.90166539  179085.42550322\n",
      "  261995.43642553  303309.08130386  137524.84658957  126933.68216139\n",
      "   96086.74104316  121973.88176187  182255.46178658   96599.0641744\n",
      "  172236.07838275  128708.31867168  239257.55560388  233951.7054426\n",
      "  136274.80689356  171460.67338269  182896.70969879  184012.55440493\n",
      "  112549.05936075  255257.12917644  180242.76944375  153122.83744499\n",
      "  153890.92664113  155252.25968059  205332.00806487  242159.05679468\n",
      "  188773.81517641  201364.30985989  358950.15746002  104470.65862131\n",
      "  198282.56388666  183631.81930322  130481.04835124  246139.20224648\n",
      "  129579.56261889  248607.10407418   87909.94665035  132941.36519053\n",
      "  136679.65293767  124089.82108168  198893.69940777  119545.5351655\n",
      "  109903.50500138  104263.73908466  122291.2427951   239546.04589235\n",
      "  127522.87417748  133499.52083471  181681.34270358  180288.89779736\n",
      "  151291.30303538  150447.50318291  217192.17810764  106198.7164023\n",
      "  131033.5385506   157542.12107151  206070.99496038  341018.66616152\n",
      "  199392.32602071  119110.95029445  100759.59012582  275333.10239942\n",
      "  234358.3804673   133211.319371    212485.07471044  311303.20579645\n",
      "  293001.3350803   132602.77439731  184936.34642572  198777.69041155\n",
      "  212847.87346812  123103.28906063  186745.03622722  173173.58501041\n",
      "  126785.71641586   95802.52521166  127504.51003302  161262.05207385\n",
      "  219186.2598962   228182.68392843  131440.34241372  162366.17845349\n",
      "  166276.7565686   180632.71961494   88214.46822845  144516.56052737\n",
      "  164646.94041893  140233.40459602  247596.82076282  193272.14668926\n",
      "  133691.00296977  191921.56792211  175243.91313536  257865.65515888\n",
      "  318227.27317653  205389.50964428  317794.507618     97028.30989241\n",
      "  113652.35170569  148018.12062808  219825.38650929  177677.19144079\n",
      "  150344.09290328  189753.44494831  147208.69239845  153515.40409576\n",
      "  161351.35008744  117029.38673531  129150.21844992  131197.69087768\n",
      "  252499.26855737  148325.32979763  259817.41596238  209290.30345905\n",
      "  182232.76673125  100179.25163027  149407.18983769  108523.70013325\n",
      "  115836.62793044  141624.31777599  218880.07472729  192509.32146408\n",
      "  169705.30701392  131511.25698868  156218.76190664  145680.84526586\n",
      "  252086.76160069  194009.68461432  145263.79678131  299224.12385874\n",
      "  186745.9721611   129475.56330794  202165.12993425  133879.05685532\n",
      "  150561.65560836  122576.86778046  223204.37124541  135091.79152217\n",
      "  148736.11480699  156096.33587191  233297.04549216  219727.68126053\n",
      "  186525.30016612  138316.65672127  129986.11186025  134927.79859718\n",
      "  152783.27668425  195908.08235995  232326.2255129    98898.79960425\n",
      "  189853.48056841  138848.77844067  139441.30935614  121690.74713576\n",
      "  182469.38825608  118043.73360175  107015.93174924  177319.18358463\n",
      "  122078.39083473  159166.89979035  219491.57140807  155915.09883138\n",
      "  175455.69431316  123157.41248933  234099.54043012  122295.00051659\n",
      "   99953.9200566   225178.75901521  180677.3188761   361965.64758953\n",
      "  193192.00982415  132629.42916339  152864.3493522   163555.15371923\n",
      "  151205.97075491   96889.9629108   194507.16922532  160176.55870017\n",
      "  147908.97146671   83348.24749203  139012.13176772  120946.89223512\n",
      "  112463.80009773  101703.90071011  174331.69048239  237606.43505857\n",
      "  312069.84268074  142663.33879947  123178.03222731  239014.22108349\n",
      "  225138.77431453  197014.75217057  192805.08375448  138871.71537734\n",
      "  151831.30522046  163989.76606922  333440.92531762  201269.29564322\n",
      "  187680.4365522   110251.41527879  115456.98273359  131785.68408716\n",
      "  143535.86882893  216533.09077495  187332.50438158  161247.51668172\n",
      "  198664.03838989   90632.19899202  184644.41749813   99160.10012303\n",
      "  289891.7467869   205076.83027286  202057.88883992  109296.08926082\n",
      "  235508.95209951  183211.68597269  170131.24096483  104025.5227652 ]\n"
     ]
    }
   ],
   "source": [
    "print(real_predict)"
   ]
  },
  {
   "cell_type": "markdown",
   "metadata": {},
   "source": [
    "Now that we're confident with our training set, let's apply the same stuff to our testing set:"
   ]
  },
  {
   "cell_type": "code",
   "execution_count": 2365,
   "metadata": {
    "collapsed": true
   },
   "outputs": [],
   "source": [
    "test_df = pd.read_csv(\"C:\\\\Users\\\\michael.clawson\\\\Desktop\\\\School\\\\Machine Learning\\\\HW 2\\\\test.csv\",\n",
    "                      header = 0)"
   ]
  },
  {
   "cell_type": "markdown",
   "metadata": {},
   "source": [
    "Variable definition:"
   ]
  },
  {
   "cell_type": "code",
   "execution_count": 2366,
   "metadata": {},
   "outputs": [
    {
     "data": {
      "text/plain": [
       "['LotArea',\n",
       " 'MasVnrArea',\n",
       " 'BsmtFinSF1',\n",
       " 'BsmtFinSF2',\n",
       " 'BsmtUnfSF',\n",
       " 'TotalBsmtSF',\n",
       " '1stFlrSF',\n",
       " '2ndFlrSF',\n",
       " 'LowQualFinSF',\n",
       " 'GrLivArea',\n",
       " 'GarageArea',\n",
       " 'WoodDeckSF',\n",
       " 'OpenPorchSF',\n",
       " 'PoolArea',\n",
       " 'LotFrontage',\n",
       " 'MiscVal',\n",
       " 'EnclosedPorch',\n",
       " '3SsnPorch',\n",
       " 'ScreenPorch',\n",
       " 'OverallQual',\n",
       " 'OverallCond',\n",
       " 'YearBuilt']"
      ]
     },
     "execution_count": 2366,
     "metadata": {},
     "output_type": "execute_result"
    }
   ],
   "source": [
    "numeric_cols = [x for x in test_df.columns if ('Area' in x) | ('SF' in x)] + ['LotFrontage','MiscVal','EnclosedPorch','3SsnPorch','ScreenPorch','OverallQual','OverallCond','YearBuilt']\n",
    "\n",
    "for col in numeric_cols:\n",
    "    test_df[col] = test_df[col].astype(float)\n",
    "numeric_cols"
   ]
  },
  {
   "cell_type": "code",
   "execution_count": null,
   "metadata": {
    "collapsed": true
   },
   "outputs": [],
   "source": []
  },
  {
   "cell_type": "code",
   "execution_count": 2367,
   "metadata": {},
   "outputs": [],
   "source": [
    "def calc_mean_and_fill(df, column_name):     \n",
    "    mean = train_df[column_name].mean()     \n",
    "    df[column_name] = df[column_name].fillna(mean)\n",
    "    \n",
    "columns = ['LotArea',\n",
    " 'MasVnrArea',\n",
    " 'BsmtFinSF1',\n",
    " 'BsmtFinSF2',\n",
    " 'BsmtUnfSF',\n",
    " 'TotalBsmtSF',\n",
    " '1stFlrSF',\n",
    " '2ndFlrSF',\n",
    " 'LowQualFinSF',\n",
    " 'GrLivArea',\n",
    " 'GarageArea',\n",
    " 'WoodDeckSF',\n",
    " 'OpenPorchSF',\n",
    " 'PoolArea',\n",
    " 'LotFrontage',\n",
    " 'MiscVal',\n",
    " 'EnclosedPorch',\n",
    " '3SsnPorch',\n",
    " 'ScreenPorch',\n",
    " 'OverallQual',\n",
    " 'OverallCond',\n",
    " 'YearBuilt'] \n",
    "for c in columns:     \n",
    "    calc_mean_and_fill(test_df, c)"
   ]
  },
  {
   "cell_type": "markdown",
   "metadata": {},
   "source": [
    "Filling categorical variables' NA's with the mode of the training set:"
   ]
  },
  {
   "cell_type": "code",
   "execution_count": 2368,
   "metadata": {
    "collapsed": true
   },
   "outputs": [],
   "source": [
    "test_df = test_df.fillna(categorical_df['Utilities'].value_counts().index[0])"
   ]
  },
  {
   "cell_type": "code",
   "execution_count": 2369,
   "metadata": {
    "collapsed": true
   },
   "outputs": [],
   "source": [
    "test_df = test_df.fillna(categorical_df['Neighborhood'].value_counts().index[0])"
   ]
  },
  {
   "cell_type": "code",
   "execution_count": 2370,
   "metadata": {
    "collapsed": true
   },
   "outputs": [],
   "source": [
    "test_df = test_df.fillna(categorical_df['Condition1'].value_counts().index[0])"
   ]
  },
  {
   "cell_type": "code",
   "execution_count": 2371,
   "metadata": {
    "collapsed": true
   },
   "outputs": [],
   "source": [
    "test_df = test_df.fillna(categorical_df['Condition2'].value_counts().index[0])"
   ]
  },
  {
   "cell_type": "code",
   "execution_count": 2372,
   "metadata": {
    "collapsed": true
   },
   "outputs": [],
   "source": [
    "test_df = test_df.fillna(categorical_df['YearRemodAdd'].value_counts().index[0])"
   ]
  },
  {
   "cell_type": "code",
   "execution_count": 2373,
   "metadata": {
    "collapsed": true
   },
   "outputs": [],
   "source": [
    "test_df = test_df.fillna(categorical_df['Exterior1st'].value_counts().index[0])"
   ]
  },
  {
   "cell_type": "code",
   "execution_count": 2374,
   "metadata": {
    "collapsed": true
   },
   "outputs": [],
   "source": [
    "test_df = test_df.fillna(categorical_df['Exterior2nd'].value_counts().index[0])"
   ]
  },
  {
   "cell_type": "code",
   "execution_count": 2375,
   "metadata": {
    "collapsed": true
   },
   "outputs": [],
   "source": [
    "test_df = test_df.fillna(categorical_df['ExterQual'].value_counts().index[0])"
   ]
  },
  {
   "cell_type": "code",
   "execution_count": 2376,
   "metadata": {
    "collapsed": true
   },
   "outputs": [],
   "source": [
    "test_df = test_df.fillna(categorical_df['ExterCond'].value_counts().index[0])"
   ]
  },
  {
   "cell_type": "code",
   "execution_count": 2377,
   "metadata": {
    "collapsed": true
   },
   "outputs": [],
   "source": [
    "test_df = test_df.fillna(categorical_df['Foundation'].value_counts().index[0])"
   ]
  },
  {
   "cell_type": "code",
   "execution_count": 2378,
   "metadata": {
    "collapsed": true
   },
   "outputs": [],
   "source": [
    "test_df = test_df.fillna(categorical_df['BsmtQual'].value_counts().index[0])"
   ]
  },
  {
   "cell_type": "code",
   "execution_count": 2379,
   "metadata": {
    "collapsed": true
   },
   "outputs": [],
   "source": [
    "test_df = test_df.fillna(categorical_df['BsmtCond'].value_counts().index[0])"
   ]
  },
  {
   "cell_type": "code",
   "execution_count": 2380,
   "metadata": {
    "collapsed": true
   },
   "outputs": [],
   "source": [
    "test_df = test_df.fillna(categorical_df['BsmtExposure'].value_counts().index[0])"
   ]
  },
  {
   "cell_type": "code",
   "execution_count": 2381,
   "metadata": {
    "collapsed": true
   },
   "outputs": [],
   "source": [
    "test_df = test_df.fillna(categorical_df['FullBath'].value_counts().index[0])"
   ]
  },
  {
   "cell_type": "code",
   "execution_count": 2382,
   "metadata": {
    "collapsed": true
   },
   "outputs": [],
   "source": [
    "test_df = test_df.fillna(categorical_df['HalfBath'].value_counts().index[0])"
   ]
  },
  {
   "cell_type": "code",
   "execution_count": 2383,
   "metadata": {
    "collapsed": true
   },
   "outputs": [],
   "source": [
    "test_df = test_df.fillna(categorical_df['BedroomAbvGr'].value_counts().index[0])"
   ]
  },
  {
   "cell_type": "code",
   "execution_count": 2384,
   "metadata": {
    "collapsed": true
   },
   "outputs": [],
   "source": [
    "test_df = test_df.fillna(categorical_df['TotRmsAbvGrd'].value_counts().index[0])"
   ]
  },
  {
   "cell_type": "code",
   "execution_count": 2385,
   "metadata": {
    "collapsed": true
   },
   "outputs": [],
   "source": [
    "test_df = test_df.fillna(categorical_df['GarageCars'].value_counts().index[0])"
   ]
  },
  {
   "cell_type": "code",
   "execution_count": 2386,
   "metadata": {
    "collapsed": true
   },
   "outputs": [],
   "source": [
    "test_df = test_df.fillna(categorical_df['GarageQual'].value_counts().index[0])"
   ]
  },
  {
   "cell_type": "code",
   "execution_count": 2387,
   "metadata": {
    "collapsed": true
   },
   "outputs": [],
   "source": [
    "test_df = test_df.fillna(categorical_df['PoolQC'].value_counts().index[0])"
   ]
  },
  {
   "cell_type": "code",
   "execution_count": 2388,
   "metadata": {
    "collapsed": true
   },
   "outputs": [],
   "source": [
    "test_df = test_df.fillna(categorical_df['Fence'].value_counts().index[0])"
   ]
  },
  {
   "cell_type": "code",
   "execution_count": 2389,
   "metadata": {
    "collapsed": true
   },
   "outputs": [],
   "source": [
    "test_df = test_df.fillna(categorical_df['MiscFeature'].value_counts().index[0])"
   ]
  },
  {
   "cell_type": "code",
   "execution_count": 2390,
   "metadata": {
    "collapsed": true
   },
   "outputs": [],
   "source": [
    "test_df = test_df.fillna(categorical_df['MoSold'].value_counts().index[0])"
   ]
  },
  {
   "cell_type": "code",
   "execution_count": 2391,
   "metadata": {
    "collapsed": true
   },
   "outputs": [],
   "source": [
    "test_df = test_df.fillna(categorical_df['YrSold'].value_counts().index[0])"
   ]
  },
  {
   "cell_type": "code",
   "execution_count": 2392,
   "metadata": {
    "collapsed": true
   },
   "outputs": [],
   "source": [
    "test_df = test_df.fillna(categorical_df['SaleType'].value_counts().index[0])"
   ]
  },
  {
   "cell_type": "code",
   "execution_count": 2393,
   "metadata": {},
   "outputs": [],
   "source": [
    "test_df = test_df.fillna(categorical_df['SaleCondition'].value_counts().index[0])"
   ]
  },
  {
   "cell_type": "code",
   "execution_count": 2394,
   "metadata": {
    "collapsed": true
   },
   "outputs": [],
   "source": [
    "test_df = test_df.fillna(categorical_df['MSZoning'].value_counts().index[0])"
   ]
  },
  {
   "cell_type": "code",
   "execution_count": 2395,
   "metadata": {
    "collapsed": true
   },
   "outputs": [],
   "source": [
    "test_df = test_df.fillna(categorical_df['MSSubClass'].value_counts().index[0])"
   ]
  },
  {
   "cell_type": "code",
   "execution_count": 2396,
   "metadata": {
    "collapsed": true
   },
   "outputs": [],
   "source": [
    "test_df = test_df.fillna(categorical_df['Street'].value_counts().index[0])"
   ]
  },
  {
   "cell_type": "code",
   "execution_count": 2397,
   "metadata": {
    "collapsed": true
   },
   "outputs": [],
   "source": [
    "test_df = test_df.fillna(categorical_df['Alley'].value_counts().index[0])"
   ]
  },
  {
   "cell_type": "markdown",
   "metadata": {},
   "source": [
    "Variable definition:"
   ]
  },
  {
   "cell_type": "code",
   "execution_count": 2398,
   "metadata": {},
   "outputs": [
    {
     "data": {
      "text/plain": [
       "['Id',\n",
       " 'MSSubClass',\n",
       " 'MSZoning',\n",
       " 'Street',\n",
       " 'Alley',\n",
       " 'LotShape',\n",
       " 'LandContour',\n",
       " 'Utilities',\n",
       " 'LotConfig',\n",
       " 'LandSlope',\n",
       " 'Neighborhood',\n",
       " 'Condition1',\n",
       " 'Condition2',\n",
       " 'BldgType',\n",
       " 'HouseStyle',\n",
       " 'YearRemodAdd',\n",
       " 'RoofStyle',\n",
       " 'RoofMatl',\n",
       " 'Exterior1st',\n",
       " 'Exterior2nd',\n",
       " 'MasVnrType',\n",
       " 'ExterQual',\n",
       " 'ExterCond',\n",
       " 'Foundation',\n",
       " 'BsmtQual',\n",
       " 'BsmtCond',\n",
       " 'BsmtExposure',\n",
       " 'BsmtFinType1',\n",
       " 'BsmtFinType2',\n",
       " 'Heating',\n",
       " 'HeatingQC',\n",
       " 'CentralAir',\n",
       " 'Electrical',\n",
       " 'BsmtFullBath',\n",
       " 'BsmtHalfBath',\n",
       " 'FullBath',\n",
       " 'HalfBath',\n",
       " 'BedroomAbvGr',\n",
       " 'KitchenAbvGr',\n",
       " 'KitchenQual',\n",
       " 'TotRmsAbvGrd',\n",
       " 'Functional',\n",
       " 'Fireplaces',\n",
       " 'FireplaceQu',\n",
       " 'GarageType',\n",
       " 'GarageYrBlt',\n",
       " 'GarageFinish',\n",
       " 'GarageCars',\n",
       " 'GarageQual',\n",
       " 'GarageCond',\n",
       " 'PavedDrive',\n",
       " 'PoolQC',\n",
       " 'Fence',\n",
       " 'MiscFeature',\n",
       " 'MoSold',\n",
       " 'YrSold',\n",
       " 'SaleType',\n",
       " 'SaleCondition']"
      ]
     },
     "execution_count": 2398,
     "metadata": {},
     "output_type": "execute_result"
    }
   ],
   "source": [
    "categorical_cols = [x for x in test_df.columns if x not in numeric_cols]\n",
    "\n",
    "for col in categorical_cols:\n",
    "    test_df[col] = test_df[col].astype('category')\n",
    "categorical_cols"
   ]
  },
  {
   "cell_type": "markdown",
   "metadata": {},
   "source": [
    "Getting some dummies:"
   ]
  },
  {
   "cell_type": "code",
   "execution_count": 2399,
   "metadata": {
    "collapsed": true
   },
   "outputs": [],
   "source": [
    "small_df = test_df[['MSZoning']].copy()\n",
    "small_df['MSZoning'] = small_df['MSZoning'].astype('category')\n",
    "new_small_df = pd.get_dummies(small_df)\n",
    "del test_df['MSZoning']\n",
    "test_df = test_df.join(new_small_df)"
   ]
  },
  {
   "cell_type": "code",
   "execution_count": 2400,
   "metadata": {
    "collapsed": true
   },
   "outputs": [],
   "source": [
    "small_df = test_df[['MSSubClass']].copy()\n",
    "small_df['MSSubClass'] = small_df['MSSubClass'].astype('category')\n",
    "new_small_df = pd.get_dummies(small_df)\n",
    "del test_df['MSSubClass']\n",
    "test_df = test_df.join(new_small_df)"
   ]
  },
  {
   "cell_type": "code",
   "execution_count": 2401,
   "metadata": {
    "collapsed": true
   },
   "outputs": [],
   "source": [
    "small_df = test_df[['Street']].copy()\n",
    "small_df['Street'] = small_df['Street'].astype('category')\n",
    "new_small_df = pd.get_dummies(small_df)\n",
    "del test_df['Street']\n",
    "test_df = test_df.join(new_small_df)"
   ]
  },
  {
   "cell_type": "code",
   "execution_count": 2402,
   "metadata": {
    "collapsed": true
   },
   "outputs": [],
   "source": [
    "small_df = test_df[['Alley']].copy()\n",
    "small_df['Alley'] = small_df['Alley'].astype('category')\n",
    "new_small_df = pd.get_dummies(small_df)\n",
    "del test_df['Alley']\n",
    "test_df = test_df.join(new_small_df)"
   ]
  },
  {
   "cell_type": "code",
   "execution_count": 2403,
   "metadata": {
    "collapsed": true
   },
   "outputs": [],
   "source": [
    "small_df = test_df[['Utilities']].copy()\n",
    "small_df['Utilities'] = small_df['Utilities'].astype('category')\n",
    "new_small_df = pd.get_dummies(small_df)\n",
    "del test_df['Utilities']\n",
    "test_df = test_df.join(new_small_df)"
   ]
  },
  {
   "cell_type": "code",
   "execution_count": 2404,
   "metadata": {
    "collapsed": true
   },
   "outputs": [],
   "source": [
    "small_df = test_df[['Neighborhood']].copy()\n",
    "small_df['Neighborhood'] = small_df['Neighborhood'].astype('category')\n",
    "new_small_df = pd.get_dummies(small_df)\n",
    "del test_df['Neighborhood']\n",
    "test_df = test_df.join(new_small_df)"
   ]
  },
  {
   "cell_type": "code",
   "execution_count": 2405,
   "metadata": {
    "collapsed": true
   },
   "outputs": [],
   "source": [
    "small_df = test_df[['Condition1']].copy()\n",
    "small_df['Condition1'] = small_df['Condition1'].astype('category')\n",
    "new_small_df = pd.get_dummies(small_df)\n",
    "del test_df['Condition1']\n",
    "test_df = test_df.join(new_small_df)"
   ]
  },
  {
   "cell_type": "code",
   "execution_count": 2406,
   "metadata": {
    "collapsed": true
   },
   "outputs": [],
   "source": [
    "small_df = test_df[['Condition2']].copy()\n",
    "small_df['Condition2'] = small_df['Condition2'].astype('category')\n",
    "new_small_df = pd.get_dummies(small_df)\n",
    "del test_df['Condition2']\n",
    "test_df = test_df.join(new_small_df)"
   ]
  },
  {
   "cell_type": "code",
   "execution_count": 2407,
   "metadata": {
    "collapsed": true
   },
   "outputs": [],
   "source": [
    "small_df = test_df[['YearRemodAdd']].copy()\n",
    "small_df['YearRemodAdd'] = small_df['YearRemodAdd'].astype('category')\n",
    "new_small_df = pd.get_dummies(small_df)\n",
    "del test_df['YearRemodAdd']\n",
    "test_df = test_df.join(new_small_df)"
   ]
  },
  {
   "cell_type": "code",
   "execution_count": 2408,
   "metadata": {
    "collapsed": true
   },
   "outputs": [],
   "source": [
    "small_df = test_df[['Exterior1st']].copy()\n",
    "small_df['Exterior1st'] = small_df['Exterior1st'].astype('category')\n",
    "new_small_df = pd.get_dummies(small_df)\n",
    "del test_df['Exterior1st']\n",
    "test_df = test_df.join(new_small_df)"
   ]
  },
  {
   "cell_type": "code",
   "execution_count": 2409,
   "metadata": {
    "collapsed": true
   },
   "outputs": [],
   "source": [
    "small_df = test_df[['Exterior2nd']].copy()\n",
    "small_df['Exterior2nd'] = small_df['Exterior2nd'].astype('category')\n",
    "new_small_df = pd.get_dummies(small_df)\n",
    "del test_df['Exterior2nd']\n",
    "test_df = test_df.join(new_small_df)"
   ]
  },
  {
   "cell_type": "code",
   "execution_count": 2410,
   "metadata": {
    "collapsed": true
   },
   "outputs": [],
   "source": [
    "small_df = test_df[['ExterQual']].copy()\n",
    "small_df['ExterQual'] = small_df['ExterQual'].astype('category')\n",
    "new_small_df = pd.get_dummies(small_df)\n",
    "del test_df['ExterQual']\n",
    "test_df = test_df.join(new_small_df)"
   ]
  },
  {
   "cell_type": "code",
   "execution_count": 2411,
   "metadata": {
    "collapsed": true
   },
   "outputs": [],
   "source": [
    "small_df = test_df[['ExterCond']].copy()\n",
    "small_df['ExterCond'] = small_df['ExterCond'].astype('category')\n",
    "new_small_df = pd.get_dummies(small_df)\n",
    "del test_df['ExterCond']\n",
    "test_df = test_df.join(new_small_df)"
   ]
  },
  {
   "cell_type": "code",
   "execution_count": 2412,
   "metadata": {
    "collapsed": true
   },
   "outputs": [],
   "source": [
    "small_df = test_df[['Foundation']].copy()\n",
    "small_df['Foundation'] = small_df['Foundation'].astype('category')\n",
    "new_small_df = pd.get_dummies(small_df)\n",
    "del test_df['Foundation']\n",
    "test_df = test_df.join(new_small_df)"
   ]
  },
  {
   "cell_type": "code",
   "execution_count": 2413,
   "metadata": {
    "collapsed": true
   },
   "outputs": [],
   "source": [
    "small_df = test_df[['BsmtQual']].copy()\n",
    "small_df['BsmtQual'] = small_df['BsmtQual'].astype('category')\n",
    "new_small_df = pd.get_dummies(small_df)\n",
    "del test_df['BsmtQual']\n",
    "test_df = test_df.join(new_small_df)"
   ]
  },
  {
   "cell_type": "code",
   "execution_count": 2414,
   "metadata": {
    "collapsed": true
   },
   "outputs": [],
   "source": [
    "small_df = test_df[['BsmtCond']].copy()\n",
    "small_df['BsmtCond'] = small_df['BsmtCond'].astype('category')\n",
    "new_small_df = pd.get_dummies(small_df)\n",
    "del test_df['BsmtCond']\n",
    "test_df = test_df.join(new_small_df)"
   ]
  },
  {
   "cell_type": "code",
   "execution_count": 2415,
   "metadata": {
    "collapsed": true
   },
   "outputs": [],
   "source": [
    "small_df = test_df[['BsmtExposure']].copy()\n",
    "small_df['BsmtExposure'] = small_df['BsmtExposure'].astype('category')\n",
    "new_small_df = pd.get_dummies(small_df)\n",
    "del test_df['BsmtExposure']\n",
    "test_df = test_df.join(new_small_df)"
   ]
  },
  {
   "cell_type": "code",
   "execution_count": 2416,
   "metadata": {
    "collapsed": true
   },
   "outputs": [],
   "source": [
    "small_df = test_df[['FullBath']].copy()\n",
    "small_df['FullBath'] = small_df['FullBath'].astype('category')\n",
    "new_small_df = pd.get_dummies(small_df)\n",
    "del test_df['FullBath']\n",
    "test_df = test_df.join(new_small_df)"
   ]
  },
  {
   "cell_type": "code",
   "execution_count": 2417,
   "metadata": {
    "collapsed": true
   },
   "outputs": [],
   "source": [
    "small_df = test_df[['HalfBath']].copy()\n",
    "small_df['HalfBath'] = small_df['HalfBath'].astype('category')\n",
    "new_small_df = pd.get_dummies(small_df)\n",
    "del test_df['HalfBath']\n",
    "test_df = test_df.join(new_small_df)"
   ]
  },
  {
   "cell_type": "code",
   "execution_count": 2418,
   "metadata": {
    "collapsed": true
   },
   "outputs": [],
   "source": [
    "small_df = test_df[['BedroomAbvGr']].copy()\n",
    "small_df['BedroomAbvGr'] = small_df['BedroomAbvGr'].astype('category')\n",
    "new_small_df = pd.get_dummies(small_df)\n",
    "del test_df['BedroomAbvGr']\n",
    "test_df = test_df.join(new_small_df)"
   ]
  },
  {
   "cell_type": "code",
   "execution_count": 2419,
   "metadata": {
    "collapsed": true
   },
   "outputs": [],
   "source": [
    "small_df = test_df[['TotRmsAbvGrd']].copy()\n",
    "small_df['TotRmsAbvGrd'] = small_df['TotRmsAbvGrd'].astype('category')\n",
    "new_small_df = pd.get_dummies(small_df)\n",
    "del test_df['TotRmsAbvGrd']\n",
    "test_df = test_df.join(new_small_df)"
   ]
  },
  {
   "cell_type": "code",
   "execution_count": 2420,
   "metadata": {
    "collapsed": true
   },
   "outputs": [],
   "source": [
    "small_df = test_df[['GarageCars']].copy()\n",
    "small_df['GarageCars'] = small_df['GarageCars'].astype('category')\n",
    "new_small_df = pd.get_dummies(small_df)\n",
    "del test_df['GarageCars']\n",
    "test_df = test_df.join(new_small_df)"
   ]
  },
  {
   "cell_type": "code",
   "execution_count": 2421,
   "metadata": {
    "collapsed": true
   },
   "outputs": [],
   "source": [
    "small_df = test_df[['GarageQual']].copy()\n",
    "small_df['GarageQual'] = small_df['GarageQual'].astype('category')\n",
    "new_small_df = pd.get_dummies(small_df)\n",
    "del test_df['GarageQual']\n",
    "test_df = test_df.join(new_small_df)"
   ]
  },
  {
   "cell_type": "code",
   "execution_count": 2422,
   "metadata": {
    "collapsed": true
   },
   "outputs": [],
   "source": [
    "small_df = test_df[['PoolQC']].copy()\n",
    "small_df['PoolQC'] = small_df['PoolQC'].astype('category')\n",
    "new_small_df = pd.get_dummies(small_df)\n",
    "del test_df['PoolQC']\n",
    "test_df = test_df.join(new_small_df)"
   ]
  },
  {
   "cell_type": "code",
   "execution_count": 2423,
   "metadata": {
    "collapsed": true
   },
   "outputs": [],
   "source": [
    "small_df = test_df[['Fence']].copy()\n",
    "small_df['Fence'] = small_df['Fence'].astype('category')\n",
    "new_small_df = pd.get_dummies(small_df)\n",
    "del test_df['Fence']\n",
    "test_df = test_df.join(new_small_df)"
   ]
  },
  {
   "cell_type": "code",
   "execution_count": 2424,
   "metadata": {
    "collapsed": true
   },
   "outputs": [],
   "source": [
    "small_df = test_df[['MiscFeature']].copy()\n",
    "small_df['MiscFeature'] = small_df['MiscFeature'].astype('category')\n",
    "new_small_df = pd.get_dummies(small_df)\n",
    "del test_df['MiscFeature']\n",
    "test_df = test_df.join(new_small_df)"
   ]
  },
  {
   "cell_type": "code",
   "execution_count": 2425,
   "metadata": {},
   "outputs": [],
   "source": [
    "small_df = test_df[['MoSold']].copy()\n",
    "small_df['MoSold'] = small_df['MoSold'].astype('category')\n",
    "new_small_df = pd.get_dummies(small_df)\n",
    "del test_df['MoSold']\n",
    "test_df = test_df.join(new_small_df)"
   ]
  },
  {
   "cell_type": "code",
   "execution_count": 2426,
   "metadata": {
    "collapsed": true
   },
   "outputs": [],
   "source": [
    "small_df = test_df[['YrSold']].copy()\n",
    "small_df['YrSold'] = small_df['YrSold'].astype('category')\n",
    "new_small_df = pd.get_dummies(small_df)\n",
    "del test_df['YrSold']\n",
    "test_df = test_df.join(new_small_df)"
   ]
  },
  {
   "cell_type": "code",
   "execution_count": 2427,
   "metadata": {},
   "outputs": [],
   "source": [
    "small_df = test_df[['SaleType']].copy()\n",
    "small_df['SaleType'] = small_df['SaleType'].astype('category')\n",
    "new_small_df = pd.get_dummies(small_df)\n",
    "del test_df['SaleType']\n",
    "test_df = test_df.join(new_small_df)"
   ]
  },
  {
   "cell_type": "code",
   "execution_count": 2428,
   "metadata": {
    "collapsed": true
   },
   "outputs": [],
   "source": [
    "small_df = test_df[['SaleCondition']].copy()\n",
    "small_df['SaleCondition'] = small_df['SaleCondition'].astype('category')\n",
    "new_small_df = pd.get_dummies(small_df)\n",
    "del test_df['SaleCondition']\n",
    "test_df = test_df.join(new_small_df)"
   ]
  },
  {
   "cell_type": "markdown",
   "metadata": {},
   "source": [
    "Deletion of variables that don't seem to contribute much to housing prices:"
   ]
  },
  {
   "cell_type": "code",
   "execution_count": 2429,
   "metadata": {},
   "outputs": [],
   "source": [
    "del test_df['LotShape']\n",
    "del test_df['LandContour']\n",
    "del test_df['LotConfig']\n",
    "del test_df['LandSlope']\n",
    "del test_df['BldgType']\n",
    "del test_df['HouseStyle']\n",
    "del test_df['RoofStyle']\n",
    "del test_df['RoofMatl']\n",
    "del test_df['MasVnrType']\n",
    "del test_df['BsmtFinType1']\n",
    "del test_df['BsmtFinType2']\n",
    "del test_df['Heating']\n",
    "del test_df['HeatingQC']\n",
    "del test_df['CentralAir']\n",
    "del test_df['Electrical']\n",
    "del test_df['BsmtFullBath']\n",
    "del test_df['BsmtHalfBath']\n",
    "del test_df['KitchenAbvGr']\n",
    "del test_df['KitchenQual']\n",
    "del test_df['Functional']\n",
    "del test_df['Fireplaces']\n",
    "del test_df['FireplaceQu']\n",
    "del test_df['GarageType']\n",
    "del test_df['GarageYrBlt']\n",
    "del test_df['GarageFinish']\n",
    "del test_df['GarageCond']\n",
    "del test_df['PavedDrive']"
   ]
  },
  {
   "cell_type": "markdown",
   "metadata": {},
   "source": [
    "Variables I have to delete in order to get predictions to work at all:"
   ]
  },
  {
   "cell_type": "code",
   "execution_count": 2430,
   "metadata": {},
   "outputs": [],
   "source": [
    "del test_df['SaleType_AllPub']\n",
    "del test_df['MSZoning_AllPub']\n",
    "del test_df['MSSubClass_150']\n",
    "del test_df['Exterior2nd_AllPub']\n",
    "del test_df['TotRmsAbvGrd_13']\n",
    "del test_df['TotRmsAbvGrd_15']\n",
    "del test_df['GarageCars_0.0']\n",
    "del test_df['GarageCars_1.0']\n",
    "del test_df['GarageCars_2.0']\n",
    "del test_df['GarageCars_3.0']\n",
    "del test_df['GarageCars_4.0']\n",
    "del test_df['GarageCars_5.0']\n",
    "del test_df['FullBath_4']\n",
    "del test_df['GarageCars_AllPub']\n",
    "del test_df['Exterior1st_AllPub']"
   ]
  },
  {
   "cell_type": "markdown",
   "metadata": {},
   "source": [
    "Predictions:"
   ]
  },
  {
   "cell_type": "code",
   "execution_count": 2431,
   "metadata": {},
   "outputs": [],
   "source": [
    "real_inputs_test = test_df"
   ]
  },
  {
   "cell_type": "code",
   "execution_count": 2432,
   "metadata": {
    "scrolled": true
   },
   "outputs": [],
   "source": [
    "real_pred_test = gridsearch.predict(real_inputs_test)\n"
   ]
  },
  {
   "cell_type": "markdown",
   "metadata": {},
   "source": [
    "Verifying that my training and testing data have the same dimensions:"
   ]
  },
  {
   "cell_type": "code",
   "execution_count": 2433,
   "metadata": {},
   "outputs": [
    {
     "data": {
      "text/plain": [
       "{'LogSalePrice'}"
      ]
     },
     "execution_count": 2433,
     "metadata": {},
     "output_type": "execute_result"
    }
   ],
   "source": [
    "set(train_df.columns).difference(set(real_inputs_test.columns))"
   ]
  },
  {
   "cell_type": "code",
   "execution_count": 2434,
   "metadata": {},
   "outputs": [
    {
     "data": {
      "text/plain": [
       "(1459, 280)"
      ]
     },
     "execution_count": 2434,
     "metadata": {},
     "output_type": "execute_result"
    }
   ],
   "source": [
    "real_inputs_test.shape"
   ]
  },
  {
   "cell_type": "code",
   "execution_count": 2435,
   "metadata": {},
   "outputs": [
    {
     "data": {
      "text/plain": [
       "(1460, 281)"
      ]
     },
     "execution_count": 2435,
     "metadata": {},
     "output_type": "execute_result"
    }
   ],
   "source": [
    "train_df.shape"
   ]
  },
  {
   "cell_type": "code",
   "execution_count": 2436,
   "metadata": {},
   "outputs": [
    {
     "data": {
      "text/html": [
       "<div>\n",
       "<style>\n",
       "    .dataframe thead tr:only-child th {\n",
       "        text-align: right;\n",
       "    }\n",
       "\n",
       "    .dataframe thead th {\n",
       "        text-align: left;\n",
       "    }\n",
       "\n",
       "    .dataframe tbody tr th {\n",
       "        vertical-align: top;\n",
       "    }\n",
       "</style>\n",
       "<table border=\"1\" class=\"dataframe\">\n",
       "  <thead>\n",
       "    <tr style=\"text-align: right;\">\n",
       "      <th></th>\n",
       "      <th>1stFlrSF</th>\n",
       "      <th>2ndFlrSF</th>\n",
       "      <th>3SsnPorch</th>\n",
       "      <th>Alley_AllPub</th>\n",
       "      <th>Alley_Grvl</th>\n",
       "      <th>Alley_Pave</th>\n",
       "      <th>BedroomAbvGr_0</th>\n",
       "      <th>BedroomAbvGr_1</th>\n",
       "      <th>BedroomAbvGr_2</th>\n",
       "      <th>BedroomAbvGr_3</th>\n",
       "      <th>...</th>\n",
       "      <th>YearRemodAdd_2006</th>\n",
       "      <th>YearRemodAdd_2007</th>\n",
       "      <th>YearRemodAdd_2008</th>\n",
       "      <th>YearRemodAdd_2009</th>\n",
       "      <th>YearRemodAdd_2010</th>\n",
       "      <th>YrSold_2006</th>\n",
       "      <th>YrSold_2007</th>\n",
       "      <th>YrSold_2008</th>\n",
       "      <th>YrSold_2009</th>\n",
       "      <th>YrSold_2010</th>\n",
       "    </tr>\n",
       "  </thead>\n",
       "  <tbody>\n",
       "    <tr>\n",
       "      <th>0</th>\n",
       "      <td>856.0</td>\n",
       "      <td>854.0</td>\n",
       "      <td>0.0</td>\n",
       "      <td>1</td>\n",
       "      <td>0</td>\n",
       "      <td>0</td>\n",
       "      <td>0</td>\n",
       "      <td>0</td>\n",
       "      <td>0</td>\n",
       "      <td>1</td>\n",
       "      <td>...</td>\n",
       "      <td>0</td>\n",
       "      <td>0</td>\n",
       "      <td>0</td>\n",
       "      <td>0</td>\n",
       "      <td>0</td>\n",
       "      <td>0</td>\n",
       "      <td>0</td>\n",
       "      <td>1</td>\n",
       "      <td>0</td>\n",
       "      <td>0</td>\n",
       "    </tr>\n",
       "    <tr>\n",
       "      <th>1</th>\n",
       "      <td>1262.0</td>\n",
       "      <td>0.0</td>\n",
       "      <td>0.0</td>\n",
       "      <td>1</td>\n",
       "      <td>0</td>\n",
       "      <td>0</td>\n",
       "      <td>0</td>\n",
       "      <td>0</td>\n",
       "      <td>0</td>\n",
       "      <td>1</td>\n",
       "      <td>...</td>\n",
       "      <td>0</td>\n",
       "      <td>0</td>\n",
       "      <td>0</td>\n",
       "      <td>0</td>\n",
       "      <td>0</td>\n",
       "      <td>0</td>\n",
       "      <td>1</td>\n",
       "      <td>0</td>\n",
       "      <td>0</td>\n",
       "      <td>0</td>\n",
       "    </tr>\n",
       "    <tr>\n",
       "      <th>2</th>\n",
       "      <td>920.0</td>\n",
       "      <td>866.0</td>\n",
       "      <td>0.0</td>\n",
       "      <td>1</td>\n",
       "      <td>0</td>\n",
       "      <td>0</td>\n",
       "      <td>0</td>\n",
       "      <td>0</td>\n",
       "      <td>0</td>\n",
       "      <td>1</td>\n",
       "      <td>...</td>\n",
       "      <td>0</td>\n",
       "      <td>0</td>\n",
       "      <td>0</td>\n",
       "      <td>0</td>\n",
       "      <td>0</td>\n",
       "      <td>0</td>\n",
       "      <td>0</td>\n",
       "      <td>1</td>\n",
       "      <td>0</td>\n",
       "      <td>0</td>\n",
       "    </tr>\n",
       "    <tr>\n",
       "      <th>3</th>\n",
       "      <td>961.0</td>\n",
       "      <td>756.0</td>\n",
       "      <td>0.0</td>\n",
       "      <td>1</td>\n",
       "      <td>0</td>\n",
       "      <td>0</td>\n",
       "      <td>0</td>\n",
       "      <td>0</td>\n",
       "      <td>0</td>\n",
       "      <td>1</td>\n",
       "      <td>...</td>\n",
       "      <td>0</td>\n",
       "      <td>0</td>\n",
       "      <td>0</td>\n",
       "      <td>0</td>\n",
       "      <td>0</td>\n",
       "      <td>1</td>\n",
       "      <td>0</td>\n",
       "      <td>0</td>\n",
       "      <td>0</td>\n",
       "      <td>0</td>\n",
       "    </tr>\n",
       "    <tr>\n",
       "      <th>4</th>\n",
       "      <td>1145.0</td>\n",
       "      <td>1053.0</td>\n",
       "      <td>0.0</td>\n",
       "      <td>1</td>\n",
       "      <td>0</td>\n",
       "      <td>0</td>\n",
       "      <td>0</td>\n",
       "      <td>0</td>\n",
       "      <td>0</td>\n",
       "      <td>0</td>\n",
       "      <td>...</td>\n",
       "      <td>0</td>\n",
       "      <td>0</td>\n",
       "      <td>0</td>\n",
       "      <td>0</td>\n",
       "      <td>0</td>\n",
       "      <td>0</td>\n",
       "      <td>0</td>\n",
       "      <td>1</td>\n",
       "      <td>0</td>\n",
       "      <td>0</td>\n",
       "    </tr>\n",
       "  </tbody>\n",
       "</table>\n",
       "<p>5 rows × 281 columns</p>\n",
       "</div>"
      ],
      "text/plain": [
       "   1stFlrSF  2ndFlrSF  3SsnPorch  Alley_AllPub  Alley_Grvl  Alley_Pave  \\\n",
       "0     856.0     854.0        0.0             1           0           0   \n",
       "1    1262.0       0.0        0.0             1           0           0   \n",
       "2     920.0     866.0        0.0             1           0           0   \n",
       "3     961.0     756.0        0.0             1           0           0   \n",
       "4    1145.0    1053.0        0.0             1           0           0   \n",
       "\n",
       "   BedroomAbvGr_0  BedroomAbvGr_1  BedroomAbvGr_2  BedroomAbvGr_3  \\\n",
       "0               0               0               0               1   \n",
       "1               0               0               0               1   \n",
       "2               0               0               0               1   \n",
       "3               0               0               0               1   \n",
       "4               0               0               0               0   \n",
       "\n",
       "      ...       YearRemodAdd_2006  YearRemodAdd_2007  YearRemodAdd_2008  \\\n",
       "0     ...                       0                  0                  0   \n",
       "1     ...                       0                  0                  0   \n",
       "2     ...                       0                  0                  0   \n",
       "3     ...                       0                  0                  0   \n",
       "4     ...                       0                  0                  0   \n",
       "\n",
       "   YearRemodAdd_2009  YearRemodAdd_2010  YrSold_2006  YrSold_2007  \\\n",
       "0                  0                  0            0            0   \n",
       "1                  0                  0            0            1   \n",
       "2                  0                  0            0            0   \n",
       "3                  0                  0            1            0   \n",
       "4                  0                  0            0            0   \n",
       "\n",
       "   YrSold_2008  YrSold_2009  YrSold_2010  \n",
       "0            1            0            0  \n",
       "1            0            0            0  \n",
       "2            1            0            0  \n",
       "3            0            0            0  \n",
       "4            1            0            0  \n",
       "\n",
       "[5 rows x 281 columns]"
      ]
     },
     "execution_count": 2436,
     "metadata": {},
     "output_type": "execute_result"
    }
   ],
   "source": [
    "train_df.sort_index(axis=1).head(5)"
   ]
  },
  {
   "cell_type": "code",
   "execution_count": 2437,
   "metadata": {},
   "outputs": [
    {
     "data": {
      "text/html": [
       "<div>\n",
       "<style>\n",
       "    .dataframe thead tr:only-child th {\n",
       "        text-align: right;\n",
       "    }\n",
       "\n",
       "    .dataframe thead th {\n",
       "        text-align: left;\n",
       "    }\n",
       "\n",
       "    .dataframe tbody tr th {\n",
       "        vertical-align: top;\n",
       "    }\n",
       "</style>\n",
       "<table border=\"1\" class=\"dataframe\">\n",
       "  <thead>\n",
       "    <tr style=\"text-align: right;\">\n",
       "      <th></th>\n",
       "      <th>1stFlrSF</th>\n",
       "      <th>2ndFlrSF</th>\n",
       "      <th>3SsnPorch</th>\n",
       "      <th>Alley_AllPub</th>\n",
       "      <th>Alley_Grvl</th>\n",
       "      <th>Alley_Pave</th>\n",
       "      <th>BedroomAbvGr_0</th>\n",
       "      <th>BedroomAbvGr_1</th>\n",
       "      <th>BedroomAbvGr_2</th>\n",
       "      <th>BedroomAbvGr_3</th>\n",
       "      <th>...</th>\n",
       "      <th>YearRemodAdd_2006</th>\n",
       "      <th>YearRemodAdd_2007</th>\n",
       "      <th>YearRemodAdd_2008</th>\n",
       "      <th>YearRemodAdd_2009</th>\n",
       "      <th>YearRemodAdd_2010</th>\n",
       "      <th>YrSold_2006</th>\n",
       "      <th>YrSold_2007</th>\n",
       "      <th>YrSold_2008</th>\n",
       "      <th>YrSold_2009</th>\n",
       "      <th>YrSold_2010</th>\n",
       "    </tr>\n",
       "  </thead>\n",
       "  <tbody>\n",
       "    <tr>\n",
       "      <th>0</th>\n",
       "      <td>896.0</td>\n",
       "      <td>0.0</td>\n",
       "      <td>0.0</td>\n",
       "      <td>1</td>\n",
       "      <td>0</td>\n",
       "      <td>0</td>\n",
       "      <td>0</td>\n",
       "      <td>0</td>\n",
       "      <td>1</td>\n",
       "      <td>0</td>\n",
       "      <td>...</td>\n",
       "      <td>0</td>\n",
       "      <td>0</td>\n",
       "      <td>0</td>\n",
       "      <td>0</td>\n",
       "      <td>0</td>\n",
       "      <td>0</td>\n",
       "      <td>0</td>\n",
       "      <td>0</td>\n",
       "      <td>0</td>\n",
       "      <td>1</td>\n",
       "    </tr>\n",
       "    <tr>\n",
       "      <th>1</th>\n",
       "      <td>1329.0</td>\n",
       "      <td>0.0</td>\n",
       "      <td>0.0</td>\n",
       "      <td>1</td>\n",
       "      <td>0</td>\n",
       "      <td>0</td>\n",
       "      <td>0</td>\n",
       "      <td>0</td>\n",
       "      <td>0</td>\n",
       "      <td>1</td>\n",
       "      <td>...</td>\n",
       "      <td>0</td>\n",
       "      <td>0</td>\n",
       "      <td>0</td>\n",
       "      <td>0</td>\n",
       "      <td>0</td>\n",
       "      <td>0</td>\n",
       "      <td>0</td>\n",
       "      <td>0</td>\n",
       "      <td>0</td>\n",
       "      <td>1</td>\n",
       "    </tr>\n",
       "    <tr>\n",
       "      <th>2</th>\n",
       "      <td>928.0</td>\n",
       "      <td>701.0</td>\n",
       "      <td>0.0</td>\n",
       "      <td>1</td>\n",
       "      <td>0</td>\n",
       "      <td>0</td>\n",
       "      <td>0</td>\n",
       "      <td>0</td>\n",
       "      <td>0</td>\n",
       "      <td>1</td>\n",
       "      <td>...</td>\n",
       "      <td>0</td>\n",
       "      <td>0</td>\n",
       "      <td>0</td>\n",
       "      <td>0</td>\n",
       "      <td>0</td>\n",
       "      <td>0</td>\n",
       "      <td>0</td>\n",
       "      <td>0</td>\n",
       "      <td>0</td>\n",
       "      <td>1</td>\n",
       "    </tr>\n",
       "    <tr>\n",
       "      <th>3</th>\n",
       "      <td>926.0</td>\n",
       "      <td>678.0</td>\n",
       "      <td>0.0</td>\n",
       "      <td>1</td>\n",
       "      <td>0</td>\n",
       "      <td>0</td>\n",
       "      <td>0</td>\n",
       "      <td>0</td>\n",
       "      <td>0</td>\n",
       "      <td>1</td>\n",
       "      <td>...</td>\n",
       "      <td>0</td>\n",
       "      <td>0</td>\n",
       "      <td>0</td>\n",
       "      <td>0</td>\n",
       "      <td>0</td>\n",
       "      <td>0</td>\n",
       "      <td>0</td>\n",
       "      <td>0</td>\n",
       "      <td>0</td>\n",
       "      <td>1</td>\n",
       "    </tr>\n",
       "    <tr>\n",
       "      <th>4</th>\n",
       "      <td>1280.0</td>\n",
       "      <td>0.0</td>\n",
       "      <td>0.0</td>\n",
       "      <td>1</td>\n",
       "      <td>0</td>\n",
       "      <td>0</td>\n",
       "      <td>0</td>\n",
       "      <td>0</td>\n",
       "      <td>1</td>\n",
       "      <td>0</td>\n",
       "      <td>...</td>\n",
       "      <td>0</td>\n",
       "      <td>0</td>\n",
       "      <td>0</td>\n",
       "      <td>0</td>\n",
       "      <td>0</td>\n",
       "      <td>0</td>\n",
       "      <td>0</td>\n",
       "      <td>0</td>\n",
       "      <td>0</td>\n",
       "      <td>1</td>\n",
       "    </tr>\n",
       "  </tbody>\n",
       "</table>\n",
       "<p>5 rows × 280 columns</p>\n",
       "</div>"
      ],
      "text/plain": [
       "   1stFlrSF  2ndFlrSF  3SsnPorch  Alley_AllPub  Alley_Grvl  Alley_Pave  \\\n",
       "0     896.0       0.0        0.0             1           0           0   \n",
       "1    1329.0       0.0        0.0             1           0           0   \n",
       "2     928.0     701.0        0.0             1           0           0   \n",
       "3     926.0     678.0        0.0             1           0           0   \n",
       "4    1280.0       0.0        0.0             1           0           0   \n",
       "\n",
       "   BedroomAbvGr_0  BedroomAbvGr_1  BedroomAbvGr_2  BedroomAbvGr_3  \\\n",
       "0               0               0               1               0   \n",
       "1               0               0               0               1   \n",
       "2               0               0               0               1   \n",
       "3               0               0               0               1   \n",
       "4               0               0               1               0   \n",
       "\n",
       "      ...       YearRemodAdd_2006  YearRemodAdd_2007  YearRemodAdd_2008  \\\n",
       "0     ...                       0                  0                  0   \n",
       "1     ...                       0                  0                  0   \n",
       "2     ...                       0                  0                  0   \n",
       "3     ...                       0                  0                  0   \n",
       "4     ...                       0                  0                  0   \n",
       "\n",
       "   YearRemodAdd_2009  YearRemodAdd_2010  YrSold_2006  YrSold_2007  \\\n",
       "0                  0                  0            0            0   \n",
       "1                  0                  0            0            0   \n",
       "2                  0                  0            0            0   \n",
       "3                  0                  0            0            0   \n",
       "4                  0                  0            0            0   \n",
       "\n",
       "   YrSold_2008  YrSold_2009  YrSold_2010  \n",
       "0            0            0            1  \n",
       "1            0            0            1  \n",
       "2            0            0            1  \n",
       "3            0            0            1  \n",
       "4            0            0            1  \n",
       "\n",
       "[5 rows x 280 columns]"
      ]
     },
     "execution_count": 2437,
     "metadata": {},
     "output_type": "execute_result"
    }
   ],
   "source": [
    "test_df.sort_index(axis = 1).head(5)"
   ]
  },
  {
   "cell_type": "code",
   "execution_count": 2438,
   "metadata": {},
   "outputs": [
    {
     "name": "stdout",
     "output_type": "stream",
     "text": [
      "<class 'pandas.core.frame.DataFrame'>\n",
      "RangeIndex: 1459 entries, 0 to 1458\n",
      "Columns: 280 entries, Id to SaleCondition_Partial\n",
      "dtypes: category(1), float64(22), uint8(257)\n",
      "memory usage: 671.3 KB\n"
     ]
    }
   ],
   "source": [
    "test_df.info()"
   ]
  },
  {
   "cell_type": "code",
   "execution_count": 2439,
   "metadata": {},
   "outputs": [
    {
     "name": "stdout",
     "output_type": "stream",
     "text": [
      "<class 'pandas.core.frame.DataFrame'>\n",
      "RangeIndex: 1460 entries, 0 to 1459\n",
      "Columns: 281 entries, Id to LogSalePrice\n",
      "dtypes: category(1), float64(23), uint8(257)\n",
      "memory usage: 683.1 KB\n"
     ]
    }
   ],
   "source": [
    "train_df.info()"
   ]
  },
  {
   "cell_type": "code",
   "execution_count": 2440,
   "metadata": {},
   "outputs": [
    {
     "data": {
      "text/plain": [
       "['Id',\n",
       " 'LotFrontage',\n",
       " 'LotArea',\n",
       " 'OverallQual',\n",
       " 'OverallCond',\n",
       " 'YearBuilt',\n",
       " 'MasVnrArea',\n",
       " 'BsmtFinSF1',\n",
       " 'BsmtFinSF2',\n",
       " 'BsmtUnfSF',\n",
       " 'TotalBsmtSF',\n",
       " '1stFlrSF',\n",
       " '2ndFlrSF',\n",
       " 'LowQualFinSF',\n",
       " 'GrLivArea',\n",
       " 'GarageArea',\n",
       " 'WoodDeckSF',\n",
       " 'OpenPorchSF',\n",
       " 'EnclosedPorch',\n",
       " '3SsnPorch',\n",
       " 'ScreenPorch',\n",
       " 'PoolArea',\n",
       " 'MiscVal',\n",
       " 'MSZoning_C (all)',\n",
       " 'MSZoning_FV',\n",
       " 'MSZoning_RH',\n",
       " 'MSZoning_RL',\n",
       " 'MSZoning_RM',\n",
       " 'MSSubClass_20',\n",
       " 'MSSubClass_30',\n",
       " 'MSSubClass_40',\n",
       " 'MSSubClass_45',\n",
       " 'MSSubClass_50',\n",
       " 'MSSubClass_60',\n",
       " 'MSSubClass_70',\n",
       " 'MSSubClass_75',\n",
       " 'MSSubClass_80',\n",
       " 'MSSubClass_85',\n",
       " 'MSSubClass_90',\n",
       " 'MSSubClass_120',\n",
       " 'MSSubClass_160',\n",
       " 'MSSubClass_180',\n",
       " 'MSSubClass_190',\n",
       " 'Street_Grvl',\n",
       " 'Street_Pave',\n",
       " 'Alley_AllPub',\n",
       " 'Alley_Grvl',\n",
       " 'Alley_Pave',\n",
       " 'Utilities_AllPub',\n",
       " 'Neighborhood_Blmngtn',\n",
       " 'Neighborhood_Blueste',\n",
       " 'Neighborhood_BrDale',\n",
       " 'Neighborhood_BrkSide',\n",
       " 'Neighborhood_ClearCr',\n",
       " 'Neighborhood_CollgCr',\n",
       " 'Neighborhood_Crawfor',\n",
       " 'Neighborhood_Edwards',\n",
       " 'Neighborhood_Gilbert',\n",
       " 'Neighborhood_IDOTRR',\n",
       " 'Neighborhood_MeadowV',\n",
       " 'Neighborhood_Mitchel',\n",
       " 'Neighborhood_NAmes',\n",
       " 'Neighborhood_NPkVill',\n",
       " 'Neighborhood_NWAmes',\n",
       " 'Neighborhood_NoRidge',\n",
       " 'Neighborhood_NridgHt',\n",
       " 'Neighborhood_OldTown',\n",
       " 'Neighborhood_SWISU',\n",
       " 'Neighborhood_Sawyer',\n",
       " 'Neighborhood_SawyerW',\n",
       " 'Neighborhood_Somerst',\n",
       " 'Neighborhood_StoneBr',\n",
       " 'Neighborhood_Timber',\n",
       " 'Neighborhood_Veenker',\n",
       " 'Condition1_Artery',\n",
       " 'Condition1_Feedr',\n",
       " 'Condition1_Norm',\n",
       " 'Condition1_PosA',\n",
       " 'Condition1_PosN',\n",
       " 'Condition1_RRAe',\n",
       " 'Condition1_RRAn',\n",
       " 'Condition1_RRNe',\n",
       " 'Condition1_RRNn',\n",
       " 'Condition2_Artery',\n",
       " 'Condition2_Feedr',\n",
       " 'Condition2_Norm',\n",
       " 'Condition2_PosA',\n",
       " 'Condition2_PosN',\n",
       " 'YearRemodAdd_1950',\n",
       " 'YearRemodAdd_1951',\n",
       " 'YearRemodAdd_1952',\n",
       " 'YearRemodAdd_1953',\n",
       " 'YearRemodAdd_1954',\n",
       " 'YearRemodAdd_1955',\n",
       " 'YearRemodAdd_1956',\n",
       " 'YearRemodAdd_1957',\n",
       " 'YearRemodAdd_1958',\n",
       " 'YearRemodAdd_1959',\n",
       " 'YearRemodAdd_1960',\n",
       " 'YearRemodAdd_1961',\n",
       " 'YearRemodAdd_1962',\n",
       " 'YearRemodAdd_1963',\n",
       " 'YearRemodAdd_1964',\n",
       " 'YearRemodAdd_1965',\n",
       " 'YearRemodAdd_1966',\n",
       " 'YearRemodAdd_1967',\n",
       " 'YearRemodAdd_1968',\n",
       " 'YearRemodAdd_1969',\n",
       " 'YearRemodAdd_1970',\n",
       " 'YearRemodAdd_1971',\n",
       " 'YearRemodAdd_1972',\n",
       " 'YearRemodAdd_1973',\n",
       " 'YearRemodAdd_1974',\n",
       " 'YearRemodAdd_1975',\n",
       " 'YearRemodAdd_1976',\n",
       " 'YearRemodAdd_1977',\n",
       " 'YearRemodAdd_1978',\n",
       " 'YearRemodAdd_1979',\n",
       " 'YearRemodAdd_1980',\n",
       " 'YearRemodAdd_1981',\n",
       " 'YearRemodAdd_1982',\n",
       " 'YearRemodAdd_1983',\n",
       " 'YearRemodAdd_1984',\n",
       " 'YearRemodAdd_1985',\n",
       " 'YearRemodAdd_1986',\n",
       " 'YearRemodAdd_1987',\n",
       " 'YearRemodAdd_1988',\n",
       " 'YearRemodAdd_1989',\n",
       " 'YearRemodAdd_1990',\n",
       " 'YearRemodAdd_1991',\n",
       " 'YearRemodAdd_1992',\n",
       " 'YearRemodAdd_1993',\n",
       " 'YearRemodAdd_1994',\n",
       " 'YearRemodAdd_1995',\n",
       " 'YearRemodAdd_1996',\n",
       " 'YearRemodAdd_1997',\n",
       " 'YearRemodAdd_1998',\n",
       " 'YearRemodAdd_1999',\n",
       " 'YearRemodAdd_2000',\n",
       " 'YearRemodAdd_2001',\n",
       " 'YearRemodAdd_2002',\n",
       " 'YearRemodAdd_2003',\n",
       " 'YearRemodAdd_2004',\n",
       " 'YearRemodAdd_2005',\n",
       " 'YearRemodAdd_2006',\n",
       " 'YearRemodAdd_2007',\n",
       " 'YearRemodAdd_2008',\n",
       " 'YearRemodAdd_2009',\n",
       " 'YearRemodAdd_2010',\n",
       " 'Exterior1st_AsbShng',\n",
       " 'Exterior1st_AsphShn',\n",
       " 'Exterior1st_BrkComm',\n",
       " 'Exterior1st_BrkFace',\n",
       " 'Exterior1st_CBlock',\n",
       " 'Exterior1st_CemntBd',\n",
       " 'Exterior1st_HdBoard',\n",
       " 'Exterior1st_MetalSd',\n",
       " 'Exterior1st_Plywood',\n",
       " 'Exterior1st_Stucco',\n",
       " 'Exterior1st_VinylSd',\n",
       " 'Exterior1st_Wd Sdng',\n",
       " 'Exterior1st_WdShing',\n",
       " 'Exterior2nd_AsbShng',\n",
       " 'Exterior2nd_AsphShn',\n",
       " 'Exterior2nd_Brk Cmn',\n",
       " 'Exterior2nd_BrkFace',\n",
       " 'Exterior2nd_CBlock',\n",
       " 'Exterior2nd_CmentBd',\n",
       " 'Exterior2nd_HdBoard',\n",
       " 'Exterior2nd_ImStucc',\n",
       " 'Exterior2nd_MetalSd',\n",
       " 'Exterior2nd_Plywood',\n",
       " 'Exterior2nd_Stone',\n",
       " 'Exterior2nd_Stucco',\n",
       " 'Exterior2nd_VinylSd',\n",
       " 'Exterior2nd_Wd Sdng',\n",
       " 'Exterior2nd_Wd Shng',\n",
       " 'ExterQual_Ex',\n",
       " 'ExterQual_Fa',\n",
       " 'ExterQual_Gd',\n",
       " 'ExterQual_TA',\n",
       " 'ExterCond_Ex',\n",
       " 'ExterCond_Fa',\n",
       " 'ExterCond_Gd',\n",
       " 'ExterCond_Po',\n",
       " 'ExterCond_TA',\n",
       " 'Foundation_BrkTil',\n",
       " 'Foundation_CBlock',\n",
       " 'Foundation_PConc',\n",
       " 'Foundation_Slab',\n",
       " 'Foundation_Stone',\n",
       " 'Foundation_Wood',\n",
       " 'BsmtQual_AllPub',\n",
       " 'BsmtQual_Ex',\n",
       " 'BsmtQual_Fa',\n",
       " 'BsmtQual_Gd',\n",
       " 'BsmtQual_TA',\n",
       " 'BsmtCond_AllPub',\n",
       " 'BsmtCond_Fa',\n",
       " 'BsmtCond_Gd',\n",
       " 'BsmtCond_Po',\n",
       " 'BsmtCond_TA',\n",
       " 'BsmtExposure_AllPub',\n",
       " 'BsmtExposure_Av',\n",
       " 'BsmtExposure_Gd',\n",
       " 'BsmtExposure_Mn',\n",
       " 'BsmtExposure_No',\n",
       " 'FullBath_0',\n",
       " 'FullBath_1',\n",
       " 'FullBath_2',\n",
       " 'FullBath_3',\n",
       " 'HalfBath_0',\n",
       " 'HalfBath_1',\n",
       " 'HalfBath_2',\n",
       " 'BedroomAbvGr_0',\n",
       " 'BedroomAbvGr_1',\n",
       " 'BedroomAbvGr_2',\n",
       " 'BedroomAbvGr_3',\n",
       " 'BedroomAbvGr_4',\n",
       " 'BedroomAbvGr_5',\n",
       " 'BedroomAbvGr_6',\n",
       " 'TotRmsAbvGrd_3',\n",
       " 'TotRmsAbvGrd_4',\n",
       " 'TotRmsAbvGrd_5',\n",
       " 'TotRmsAbvGrd_6',\n",
       " 'TotRmsAbvGrd_7',\n",
       " 'TotRmsAbvGrd_8',\n",
       " 'TotRmsAbvGrd_9',\n",
       " 'TotRmsAbvGrd_10',\n",
       " 'TotRmsAbvGrd_11',\n",
       " 'TotRmsAbvGrd_12',\n",
       " 'GarageQual_AllPub',\n",
       " 'GarageQual_Fa',\n",
       " 'GarageQual_Gd',\n",
       " 'GarageQual_Po',\n",
       " 'GarageQual_TA',\n",
       " 'PoolQC_AllPub',\n",
       " 'PoolQC_Ex',\n",
       " 'PoolQC_Gd',\n",
       " 'Fence_AllPub',\n",
       " 'Fence_GdPrv',\n",
       " 'Fence_GdWo',\n",
       " 'Fence_MnPrv',\n",
       " 'Fence_MnWw',\n",
       " 'MiscFeature_AllPub',\n",
       " 'MiscFeature_Gar2',\n",
       " 'MiscFeature_Othr',\n",
       " 'MiscFeature_Shed',\n",
       " 'MoSold_1',\n",
       " 'MoSold_2',\n",
       " 'MoSold_3',\n",
       " 'MoSold_4',\n",
       " 'MoSold_5',\n",
       " 'MoSold_6',\n",
       " 'MoSold_7',\n",
       " 'MoSold_8',\n",
       " 'MoSold_9',\n",
       " 'MoSold_10',\n",
       " 'MoSold_11',\n",
       " 'MoSold_12',\n",
       " 'YrSold_2006',\n",
       " 'YrSold_2007',\n",
       " 'YrSold_2008',\n",
       " 'YrSold_2009',\n",
       " 'YrSold_2010',\n",
       " 'SaleType_COD',\n",
       " 'SaleType_CWD',\n",
       " 'SaleType_Con',\n",
       " 'SaleType_ConLD',\n",
       " 'SaleType_ConLI',\n",
       " 'SaleType_ConLw',\n",
       " 'SaleType_New',\n",
       " 'SaleType_Oth',\n",
       " 'SaleType_WD',\n",
       " 'SaleCondition_Abnorml',\n",
       " 'SaleCondition_AdjLand',\n",
       " 'SaleCondition_Alloca',\n",
       " 'SaleCondition_Family',\n",
       " 'SaleCondition_Normal',\n",
       " 'SaleCondition_Partial']"
      ]
     },
     "execution_count": 2440,
     "metadata": {},
     "output_type": "execute_result"
    }
   ],
   "source": [
    "list(test_df.columns)"
   ]
  },
  {
   "cell_type": "code",
   "execution_count": 2441,
   "metadata": {},
   "outputs": [
    {
     "data": {
      "text/plain": [
       "['Id',\n",
       " 'LotFrontage',\n",
       " 'LotArea',\n",
       " 'OverallQual',\n",
       " 'OverallCond',\n",
       " 'YearBuilt',\n",
       " 'MasVnrArea',\n",
       " 'BsmtFinSF1',\n",
       " 'BsmtFinSF2',\n",
       " 'BsmtUnfSF',\n",
       " 'TotalBsmtSF',\n",
       " '1stFlrSF',\n",
       " '2ndFlrSF',\n",
       " 'LowQualFinSF',\n",
       " 'GrLivArea',\n",
       " 'GarageArea',\n",
       " 'WoodDeckSF',\n",
       " 'OpenPorchSF',\n",
       " 'EnclosedPorch',\n",
       " '3SsnPorch',\n",
       " 'ScreenPorch',\n",
       " 'PoolArea',\n",
       " 'MiscVal',\n",
       " 'MSZoning_C (all)',\n",
       " 'MSZoning_FV',\n",
       " 'MSZoning_RH',\n",
       " 'MSZoning_RL',\n",
       " 'MSZoning_RM',\n",
       " 'MSSubClass_20',\n",
       " 'MSSubClass_30',\n",
       " 'MSSubClass_40',\n",
       " 'MSSubClass_45',\n",
       " 'MSSubClass_50',\n",
       " 'MSSubClass_60',\n",
       " 'MSSubClass_70',\n",
       " 'MSSubClass_75',\n",
       " 'MSSubClass_80',\n",
       " 'MSSubClass_85',\n",
       " 'MSSubClass_90',\n",
       " 'MSSubClass_120',\n",
       " 'MSSubClass_160',\n",
       " 'MSSubClass_180',\n",
       " 'MSSubClass_190',\n",
       " 'Street_Grvl',\n",
       " 'Street_Pave',\n",
       " 'Alley_AllPub',\n",
       " 'Alley_Grvl',\n",
       " 'Alley_Pave',\n",
       " 'Utilities_AllPub',\n",
       " 'Neighborhood_Blmngtn',\n",
       " 'Neighborhood_Blueste',\n",
       " 'Neighborhood_BrDale',\n",
       " 'Neighborhood_BrkSide',\n",
       " 'Neighborhood_ClearCr',\n",
       " 'Neighborhood_CollgCr',\n",
       " 'Neighborhood_Crawfor',\n",
       " 'Neighborhood_Edwards',\n",
       " 'Neighborhood_Gilbert',\n",
       " 'Neighborhood_IDOTRR',\n",
       " 'Neighborhood_MeadowV',\n",
       " 'Neighborhood_Mitchel',\n",
       " 'Neighborhood_NAmes',\n",
       " 'Neighborhood_NPkVill',\n",
       " 'Neighborhood_NWAmes',\n",
       " 'Neighborhood_NoRidge',\n",
       " 'Neighborhood_NridgHt',\n",
       " 'Neighborhood_OldTown',\n",
       " 'Neighborhood_SWISU',\n",
       " 'Neighborhood_Sawyer',\n",
       " 'Neighborhood_SawyerW',\n",
       " 'Neighborhood_Somerst',\n",
       " 'Neighborhood_StoneBr',\n",
       " 'Neighborhood_Timber',\n",
       " 'Neighborhood_Veenker',\n",
       " 'Condition1_Artery',\n",
       " 'Condition1_Feedr',\n",
       " 'Condition1_Norm',\n",
       " 'Condition1_PosA',\n",
       " 'Condition1_PosN',\n",
       " 'Condition1_RRAe',\n",
       " 'Condition1_RRAn',\n",
       " 'Condition1_RRNe',\n",
       " 'Condition1_RRNn',\n",
       " 'Condition2_Artery',\n",
       " 'Condition2_Feedr',\n",
       " 'Condition2_Norm',\n",
       " 'Condition2_PosA',\n",
       " 'Condition2_PosN',\n",
       " 'YearRemodAdd_1950',\n",
       " 'YearRemodAdd_1951',\n",
       " 'YearRemodAdd_1952',\n",
       " 'YearRemodAdd_1953',\n",
       " 'YearRemodAdd_1954',\n",
       " 'YearRemodAdd_1955',\n",
       " 'YearRemodAdd_1956',\n",
       " 'YearRemodAdd_1957',\n",
       " 'YearRemodAdd_1958',\n",
       " 'YearRemodAdd_1959',\n",
       " 'YearRemodAdd_1960',\n",
       " 'YearRemodAdd_1961',\n",
       " 'YearRemodAdd_1962',\n",
       " 'YearRemodAdd_1963',\n",
       " 'YearRemodAdd_1964',\n",
       " 'YearRemodAdd_1965',\n",
       " 'YearRemodAdd_1966',\n",
       " 'YearRemodAdd_1967',\n",
       " 'YearRemodAdd_1968',\n",
       " 'YearRemodAdd_1969',\n",
       " 'YearRemodAdd_1970',\n",
       " 'YearRemodAdd_1971',\n",
       " 'YearRemodAdd_1972',\n",
       " 'YearRemodAdd_1973',\n",
       " 'YearRemodAdd_1974',\n",
       " 'YearRemodAdd_1975',\n",
       " 'YearRemodAdd_1976',\n",
       " 'YearRemodAdd_1977',\n",
       " 'YearRemodAdd_1978',\n",
       " 'YearRemodAdd_1979',\n",
       " 'YearRemodAdd_1980',\n",
       " 'YearRemodAdd_1981',\n",
       " 'YearRemodAdd_1982',\n",
       " 'YearRemodAdd_1983',\n",
       " 'YearRemodAdd_1984',\n",
       " 'YearRemodAdd_1985',\n",
       " 'YearRemodAdd_1986',\n",
       " 'YearRemodAdd_1987',\n",
       " 'YearRemodAdd_1988',\n",
       " 'YearRemodAdd_1989',\n",
       " 'YearRemodAdd_1990',\n",
       " 'YearRemodAdd_1991',\n",
       " 'YearRemodAdd_1992',\n",
       " 'YearRemodAdd_1993',\n",
       " 'YearRemodAdd_1994',\n",
       " 'YearRemodAdd_1995',\n",
       " 'YearRemodAdd_1996',\n",
       " 'YearRemodAdd_1997',\n",
       " 'YearRemodAdd_1998',\n",
       " 'YearRemodAdd_1999',\n",
       " 'YearRemodAdd_2000',\n",
       " 'YearRemodAdd_2001',\n",
       " 'YearRemodAdd_2002',\n",
       " 'YearRemodAdd_2003',\n",
       " 'YearRemodAdd_2004',\n",
       " 'YearRemodAdd_2005',\n",
       " 'YearRemodAdd_2006',\n",
       " 'YearRemodAdd_2007',\n",
       " 'YearRemodAdd_2008',\n",
       " 'YearRemodAdd_2009',\n",
       " 'YearRemodAdd_2010',\n",
       " 'Exterior1st_AsbShng',\n",
       " 'Exterior1st_AsphShn',\n",
       " 'Exterior1st_BrkComm',\n",
       " 'Exterior1st_BrkFace',\n",
       " 'Exterior1st_CBlock',\n",
       " 'Exterior1st_CemntBd',\n",
       " 'Exterior1st_HdBoard',\n",
       " 'Exterior1st_MetalSd',\n",
       " 'Exterior1st_Plywood',\n",
       " 'Exterior1st_Stucco',\n",
       " 'Exterior1st_VinylSd',\n",
       " 'Exterior1st_Wd Sdng',\n",
       " 'Exterior1st_WdShing',\n",
       " 'Exterior2nd_AsbShng',\n",
       " 'Exterior2nd_AsphShn',\n",
       " 'Exterior2nd_Brk Cmn',\n",
       " 'Exterior2nd_BrkFace',\n",
       " 'Exterior2nd_CBlock',\n",
       " 'Exterior2nd_CmentBd',\n",
       " 'Exterior2nd_HdBoard',\n",
       " 'Exterior2nd_ImStucc',\n",
       " 'Exterior2nd_MetalSd',\n",
       " 'Exterior2nd_Plywood',\n",
       " 'Exterior2nd_Stone',\n",
       " 'Exterior2nd_Stucco',\n",
       " 'Exterior2nd_VinylSd',\n",
       " 'Exterior2nd_Wd Sdng',\n",
       " 'Exterior2nd_Wd Shng',\n",
       " 'ExterQual_Ex',\n",
       " 'ExterQual_Fa',\n",
       " 'ExterQual_Gd',\n",
       " 'ExterQual_TA',\n",
       " 'ExterCond_Ex',\n",
       " 'ExterCond_Fa',\n",
       " 'ExterCond_Gd',\n",
       " 'ExterCond_Po',\n",
       " 'ExterCond_TA',\n",
       " 'Foundation_BrkTil',\n",
       " 'Foundation_CBlock',\n",
       " 'Foundation_PConc',\n",
       " 'Foundation_Slab',\n",
       " 'Foundation_Stone',\n",
       " 'Foundation_Wood',\n",
       " 'BsmtQual_AllPub',\n",
       " 'BsmtQual_Ex',\n",
       " 'BsmtQual_Fa',\n",
       " 'BsmtQual_Gd',\n",
       " 'BsmtQual_TA',\n",
       " 'BsmtCond_AllPub',\n",
       " 'BsmtCond_Fa',\n",
       " 'BsmtCond_Gd',\n",
       " 'BsmtCond_Po',\n",
       " 'BsmtCond_TA',\n",
       " 'BsmtExposure_AllPub',\n",
       " 'BsmtExposure_Av',\n",
       " 'BsmtExposure_Gd',\n",
       " 'BsmtExposure_Mn',\n",
       " 'BsmtExposure_No',\n",
       " 'FullBath_0',\n",
       " 'FullBath_1',\n",
       " 'FullBath_2',\n",
       " 'FullBath_3',\n",
       " 'HalfBath_0',\n",
       " 'HalfBath_1',\n",
       " 'HalfBath_2',\n",
       " 'BedroomAbvGr_0',\n",
       " 'BedroomAbvGr_1',\n",
       " 'BedroomAbvGr_2',\n",
       " 'BedroomAbvGr_3',\n",
       " 'BedroomAbvGr_4',\n",
       " 'BedroomAbvGr_5',\n",
       " 'BedroomAbvGr_6',\n",
       " 'TotRmsAbvGrd_3',\n",
       " 'TotRmsAbvGrd_4',\n",
       " 'TotRmsAbvGrd_5',\n",
       " 'TotRmsAbvGrd_6',\n",
       " 'TotRmsAbvGrd_7',\n",
       " 'TotRmsAbvGrd_8',\n",
       " 'TotRmsAbvGrd_9',\n",
       " 'TotRmsAbvGrd_10',\n",
       " 'TotRmsAbvGrd_11',\n",
       " 'TotRmsAbvGrd_12',\n",
       " 'GarageQual_AllPub',\n",
       " 'GarageQual_Fa',\n",
       " 'GarageQual_Gd',\n",
       " 'GarageQual_Po',\n",
       " 'GarageQual_TA',\n",
       " 'PoolQC_AllPub',\n",
       " 'PoolQC_Ex',\n",
       " 'PoolQC_Gd',\n",
       " 'Fence_AllPub',\n",
       " 'Fence_GdPrv',\n",
       " 'Fence_GdWo',\n",
       " 'Fence_MnPrv',\n",
       " 'Fence_MnWw',\n",
       " 'MiscFeature_AllPub',\n",
       " 'MiscFeature_Gar2',\n",
       " 'MiscFeature_Othr',\n",
       " 'MiscFeature_Shed',\n",
       " 'MoSold_1',\n",
       " 'MoSold_2',\n",
       " 'MoSold_3',\n",
       " 'MoSold_4',\n",
       " 'MoSold_5',\n",
       " 'MoSold_6',\n",
       " 'MoSold_7',\n",
       " 'MoSold_8',\n",
       " 'MoSold_9',\n",
       " 'MoSold_10',\n",
       " 'MoSold_11',\n",
       " 'MoSold_12',\n",
       " 'YrSold_2006',\n",
       " 'YrSold_2007',\n",
       " 'YrSold_2008',\n",
       " 'YrSold_2009',\n",
       " 'YrSold_2010',\n",
       " 'SaleType_COD',\n",
       " 'SaleType_CWD',\n",
       " 'SaleType_Con',\n",
       " 'SaleType_ConLD',\n",
       " 'SaleType_ConLI',\n",
       " 'SaleType_ConLw',\n",
       " 'SaleType_New',\n",
       " 'SaleType_Oth',\n",
       " 'SaleType_WD',\n",
       " 'SaleCondition_Abnorml',\n",
       " 'SaleCondition_AdjLand',\n",
       " 'SaleCondition_Alloca',\n",
       " 'SaleCondition_Family',\n",
       " 'SaleCondition_Normal',\n",
       " 'SaleCondition_Partial',\n",
       " 'LogSalePrice']"
      ]
     },
     "execution_count": 2441,
     "metadata": {},
     "output_type": "execute_result"
    }
   ],
   "source": [
    "list(train_df.columns)"
   ]
  },
  {
   "cell_type": "code",
   "execution_count": 2444,
   "metadata": {},
   "outputs": [
    {
     "name": "stdout",
     "output_type": "stream",
     "text": [
      "[ 11.85915089  12.1157252   12.07005964 ...,  12.17998507  11.77002168\n",
      "  12.35497709]\n"
     ]
    }
   ],
   "source": [
    "print(real_pred_test)"
   ]
  },
  {
   "cell_type": "markdown",
   "metadata": {},
   "source": [
    "Modifying the data to look like housing prices:"
   ]
  },
  {
   "cell_type": "code",
   "execution_count": 2445,
   "metadata": {
    "collapsed": true
   },
   "outputs": [],
   "source": [
    "test_real_predict = np.exp(real_pred_test)"
   ]
  },
  {
   "cell_type": "code",
   "execution_count": 2447,
   "metadata": {},
   "outputs": [
    {
     "data": {
      "text/plain": [
       "[141372.12749707908,\n",
       " 182722.74018310936,\n",
       " 174566.25557318385,\n",
       " 178713.25391310459,\n",
       " 164475.58033615447,\n",
       " 162842.53299700981,\n",
       " 145468.65427358414,\n",
       " 175818.05832628891,\n",
       " 162835.70434487949,\n",
       " 127660.23605313584,\n",
       " 219944.83098558336,\n",
       " 93797.164941559793,\n",
       " 99753.238826245113,\n",
       " 152624.88113582911,\n",
       " 106336.58090414846,\n",
       " 257059.57298377575,\n",
       " 197161.77913539603,\n",
       " 204884.3503346637,\n",
       " 264379.62474859913,\n",
       " 362195.60496271623,\n",
       " 246836.70636695213,\n",
       " 188287.28449198563,\n",
       " 153744.1448502696,\n",
       " 177893.91165554911,\n",
       " 162619.69235453277,\n",
       " 179361.60690307719,\n",
       " 215999.10110374712,\n",
       " 207543.36726065804,\n",
       " 182772.68365472779,\n",
       " 188971.46900781366,\n",
       " 184100.58413122696,\n",
       " 125290.97748098709,\n",
       " 185559.70675879758,\n",
       " 217894.68874763828,\n",
       " 275149.97100654797,\n",
       " 252865.3685164754,\n",
       " 140262.09166295119,\n",
       " 152776.56658094903,\n",
       " 137174.19112900703,\n",
       " 136681.43620763122,\n",
       " 160730.20096722181,\n",
       " 124893.52290246956,\n",
       " 227472.08364702965,\n",
       " 176129.61369809913,\n",
       " 204538.62111373787,\n",
       " 215251.35281541449,\n",
       " 257001.56481654916,\n",
       " 203407.53007085022,\n",
       " 144293.61420568472,\n",
       " 168300.80989679002,\n",
       " 155798.76433734046,\n",
       " 191885.25852563517,\n",
       " 161634.83410972261,\n",
       " 262853.34655797936,\n",
       " 179521.1009093856,\n",
       " 158938.34391807258,\n",
       " 150333.3592878943,\n",
       " 186723.0726116451,\n",
       " 210287.07976785486,\n",
       " 137042.03784005597,\n",
       " 158663.94843522803,\n",
       " 178280.81832909217,\n",
       " 148653.4962443019,\n",
       " 129756.26278922966,\n",
       " 136890.71094055299,\n",
       " 156704.45501637214,\n",
       " 107300.06659784375,\n",
       " 145053.47123963668,\n",
       " 144426.19463187561,\n",
       " 162900.7850723528,\n",
       " 126790.91868419282,\n",
       " 117420.80453175562,\n",
       " 152180.63807307056,\n",
       " 122147.64192853538,\n",
       " 158897.30321898579,\n",
       " 116881.3949515953,\n",
       " 123521.60701482391,\n",
       " 146540.75164591279,\n",
       " 169647.15832934793,\n",
       " 150185.06658228568,\n",
       " 148358.85943816236,\n",
       " 136468.08837515966,\n",
       " 160713.64042878599,\n",
       " 93719.159196239532,\n",
       " 109155.33564493922,\n",
       " 124549.95885429681,\n",
       " 126027.43940742567,\n",
       " 123996.19362619282,\n",
       " 110086.81503248625,\n",
       " 132131.12741025549,\n",
       " 131084.23250649619,\n",
       " 162826.79332433824,\n",
       " 174874.13795410661,\n",
       " 147862.88470548976,\n",
       " 250214.86594124426,\n",
       " 136526.66964988969,\n",
       " 155056.85098706096,\n",
       " 103938.13481918763,\n",
       " 136260.57413466007,\n",
       " 135952.94604050653,\n",
       " 210851.37665817383,\n",
       " 114242.18071110139,\n",
       " 120972.42134824602,\n",
       " 162703.67999291074,\n",
       " 171507.2859223104,\n",
       " 216426.80904362103,\n",
       " 109389.80911168917,\n",
       " 216767.34161587604,\n",
       " 171310.84284404817,\n",
       " 135941.06054536821,\n",
       " 114559.84364978765,\n",
       " 154186.9258278773,\n",
       " 200819.30296376703,\n",
       " 170898.29340389499,\n",
       " 165428.71283543119,\n",
       " 203782.35712859439,\n",
       " 183837.58768579434,\n",
       " 154667.40960608615,\n",
       " 144139.61645022765,\n",
       " 185406.22807166557,\n",
       " 165536.69013539123,\n",
       " 124870.86844266493,\n",
       " 319451.65855458187,\n",
       " 217722.7499229949,\n",
       " 138273.86773886991,\n",
       " 95963.138050291527,\n",
       " 112352.07058615109,\n",
       " 150420.89062056321,\n",
       " 140920.86074108328,\n",
       " 124077.88740434621,\n",
       " 109579.31476323227,\n",
       " 141224.65163171795,\n",
       " 106485.91240760345,\n",
       " 148826.04100158639,\n",
       " 153747.29952024439,\n",
       " 167851.65153344494,\n",
       " 223275.76199440399,\n",
       " 168074.13739767257,\n",
       " 147487.78398100907,\n",
       " 161415.41721706468,\n",
       " 100876.64698169456,\n",
       " 125971.00885889768,\n",
       " 106644.26741357558,\n",
       " 261127.18548454402,\n",
       " 214726.20481385614,\n",
       " 156727.05001390338,\n",
       " 260112.26374855588,\n",
       " 199750.74410766223,\n",
       " 147284.20174951217,\n",
       " 155194.10738634015,\n",
       " 170061.94280963254,\n",
       " 208442.09586323579,\n",
       " 209914.08086679634,\n",
       " 129201.08094316642,\n",
       " 96201.113233700162,\n",
       " 97187.71889107686,\n",
       " 99869.026997531662,\n",
       " 120385.32007381051,\n",
       " 134479.26612910698,\n",
       " 168053.97027051478,\n",
       " 135270.64033260057,\n",
       " 133778.59834379755,\n",
       " 226745.99229019173,\n",
       " 198625.5781375083,\n",
       " 134373.63140019047,\n",
       " 186399.49589935801,\n",
       " 187176.83753730651,\n",
       " 267812.57615772093,\n",
       " 170428.77794191113,\n",
       " 237213.31760696028,\n",
       " 186112.71984059675,\n",
       " 197517.08871459251,\n",
       " 153459.82631291397,\n",
       " 185312.40928858094,\n",
       " 164599.75444506816,\n",
       " 167391.78399110856,\n",
       " 191734.79887538767,\n",
       " 186772.55803351957,\n",
       " 208123.21270374561,\n",
       " 255812.61736797803,\n",
       " 169121.92023622914,\n",
       " 176748.01268483189,\n",
       " 168547.32427002222,\n",
       " 188643.84469006275,\n",
       " 209104.35963825259,\n",
       " 148566.84026861389,\n",
       " 150878.93070164401,\n",
       " 171493.99557648963,\n",
       " 135703.13740064102,\n",
       " 130423.50019028927,\n",
       " 116333.64730967059,\n",
       " 94127.463702308145,\n",
       " 92291.945078724922,\n",
       " 150791.22240598834,\n",
       " 130801.32599404974,\n",
       " 153476.05132911785,\n",
       " 155919.72252681071,\n",
       " 149446.37926890989,\n",
       " 109957.67037762732,\n",
       " 146239.3543375654,\n",
       " 351529.71198051365,\n",
       " 278722.19994007185,\n",
       " 322667.30834241776,\n",
       " 340720.82351151807,\n",
       " 217102.52405612697,\n",
       " 257432.90106683091,\n",
       " 276955.22169617336,\n",
       " 263998.74137148907,\n",
       " 198600.38430585826,\n",
       " 324276.20148898271,\n",
       " 262775.75534646586,\n",
       " 364192.3339279223,\n",
       " 240854.3102420647,\n",
       " 214470.78215286531,\n",
       " 180770.35655949439,\n",
       " 208855.64942108499,\n",
       " 176476.84962985912,\n",
       " 358419.04230688512,\n",
       " 326134.73698072473,\n",
       " 203541.8816688743,\n",
       " 193398.24940625942,\n",
       " 256080.93721770629,\n",
       " 187240.87834775631,\n",
       " 158744.74573199655,\n",
       " 172593.24547052698,\n",
       " 178901.54318007996,\n",
       " 149074.75197571231,\n",
       " 182899.02879764827,\n",
       " 165847.6821926976,\n",
       " 157891.00463845712,\n",
       " 173767.22889193203,\n",
       " 204389.04437097945,\n",
       " 139310.56763138744,\n",
       " 181372.26971036679,\n",
       " 159529.68692595736,\n",
       " 260834.83345820702,\n",
       " 167017.55628130111,\n",
       " 291235.32916046237,\n",
       " 244754.94560506925,\n",
       " 223944.44897620153,\n",
       " 261308.27271779103,\n",
       " 220488.21154257288,\n",
       " 238038.97987071972,\n",
       " 268132.54797899595,\n",
       " 200358.52038591314,\n",
       " 340200.33485048678,\n",
       " 182945.1111927554,\n",
       " 187576.60033005383,\n",
       " 225558.32053086022,\n",
       " 190695.88830147602,\n",
       " 211111.89340655287,\n",
       " 184341.99557396685,\n",
       " 275554.1185389501,\n",
       " 217322.50960670618,\n",
       " 191498.06450423473,\n",
       " 158071.68360970548,\n",
       " 168303.85601612128,\n",
       " 149317.45495432988,\n",
       " 196318.31411293091,\n",
       " 198617.2634805548,\n",
       " 152538.38222320471,\n",
       " 139348.2244927517,\n",
       " 154182.67401131152,\n",
       " 181030.51504464881,\n",
       " 222442.05389760074,\n",
       " 175446.09249683688,\n",
       " 189727.20919263415,\n",
       " 167122.88710675391,\n",
       " 146281.92664715555,\n",
       " 144304.501752738,\n",
       " 132450.13840629137,\n",
       " 125000.25141506127,\n",
       " 116968.81155330015,\n",
       " 128265.72684019413,\n",
       " 128131.65782738598,\n",
       " 118173.54997124693,\n",
       " 306383.65659569687,\n",
       " 183926.89381003883,\n",
       " 181557.38111351183,\n",
       " 192502.12491041759,\n",
       " 168360.55009227621,\n",
       " 159456.57784011317,\n",
       " 151999.94486192372,\n",
       " 295239.6496554343,\n",
       " 250153.62330564731,\n",
       " 169679.69571303981,\n",
       " 181898.883502215,\n",
       " 189078.06012137971,\n",
       " 157157.80910935177,\n",
       " 152071.7467238979,\n",
       " 204523.27950836244,\n",
       " 123848.84802838576,\n",
       " 210827.51797458401,\n",
       " 204581.78222253764,\n",
       " 197818.06371839161,\n",
       " 130362.33146747013,\n",
       " 110813.62624367722,\n",
       " 165352.2786297063,\n",
       " 186080.77382974507,\n",
       " 158707.35765891086,\n",
       " 159155.18116816919,\n",
       " 168527.48282117146,\n",
       " 156072.69312282148,\n",
       " 126806.34137937111,\n",
       " 218264.91294283496,\n",
       " 180899.71431353441,\n",
       " 247632.89429769875,\n",
       " 152681.58040642153,\n",
       " 160590.77594492765,\n",
       " 125126.60801506993,\n",
       " 134804.71214151478,\n",
       " 176243.23888313971,\n",
       " 148283.32239264547,\n",
       " 195153.68925521962,\n",
       " 126588.77019604188,\n",
       " 145298.79139282301,\n",
       " 115394.84603333032,\n",
       " 133840.01504268637,\n",
       " 119127.90980838843,\n",
       " 171293.17292828838,\n",
       " 135147.26704063077,\n",
       " 102161.00151827288,\n",
       " 147798.06213203867,\n",
       " 118118.80998387217,\n",
       " 135640.17578922064,\n",
       " 183961.64917244291,\n",
       " 165588.35804898074,\n",
       " 72502.622004276491,\n",
       " 127167.0080174504,\n",
       " 112949.23718873362,\n",
       " 237351.10023905319,\n",
       " 167005.75107265823,\n",
       " 148397.06972583715,\n",
       " 130173.0062106125,\n",
       " 134711.07578008907,\n",
       " 113017.37804934257,\n",
       " 142178.00845102992,\n",
       " 118853.04774466543,\n",
       " 123970.49582241681,\n",
       " 124648.15872330214,\n",
       " 158385.52294689539,\n",
       " 127972.41872544924,\n",
       " 157856.82190522374,\n",
       " 125798.78885623919,\n",
       " 129932.61874678844,\n",
       " 111473.02671302199,\n",
       " 181274.9312658867,\n",
       " 170044.5199735421,\n",
       " 145880.17409986985,\n",
       " 142465.91454159687,\n",
       " 151640.97848613764,\n",
       " 139755.11461925085,\n",
       " 119251.20586209734,\n",
       " 104023.70674259625,\n",
       " 75941.118268472448,\n",
       " 100010.44859903915,\n",
       " 153912.92788523165,\n",
       " 157932.34293110002,\n",
       " 132267.48342469076,\n",
       " 87919.439277430545,\n",
       " 113450.92232487605,\n",
       " 150112.66422181844,\n",
       " 112137.47105666186,\n",
       " 135885.18369036901,\n",
       " 125264.30999616568,\n",
       " 122159.69107237477,\n",
       " 111648.65589940806,\n",
       " 127191.24472812851,\n",
       " 117337.64406258009,\n",
       " 174961.97640969971,\n",
       " 150810.21407113099,\n",
       " 147332.86226351952,\n",
       " 162875.40001636848,\n",
       " 120995.48879030801,\n",
       " 132530.61083984532,\n",
       " 131096.89072064892,\n",
       " 116091.74008799918,\n",
       " 128432.98285437911,\n",
       " 77666.629281996953,\n",
       " 155233.29059293435,\n",
       " 147214.78457587046,\n",
       " 115550.74684126912,\n",
       " 147512.16071651815,\n",
       " 121826.41333036822,\n",
       " 178285.98957969007,\n",
       " 179776.26396509126,\n",
       " 228554.63025381911,\n",
       " 101338.70463178729,\n",
       " 171710.36458496199,\n",
       " 124798.23865101206,\n",
       " 141503.50335426195,\n",
       " 119039.45137334224,\n",
       " 138755.0490958294,\n",
       " 141910.60966956589,\n",
       " 164765.18541311854,\n",
       " 197083.47062528608,\n",
       " 180951.85373598369,\n",
       " 150042.97784872106,\n",
       " 104930.73381140607,\n",
       " 161852.19680070924,\n",
       " 104774.89699520821,\n",
       " 291904.86875707435,\n",
       " 244353.94792575861,\n",
       " 244728.68772708011,\n",
       " 262583.55175821064,\n",
       " 281501.38560430234,\n",
       " 207490.75189045153,\n",
       " 321367.07050241565,\n",
       " 194620.16295049925,\n",
       " 158704.52654760596,\n",
       " 202505.6945373296,\n",
       " 166157.62320506599,\n",
       " 217315.39046644006,\n",
       " 138511.3117689639,\n",
       " 228995.67462894818,\n",
       " 202595.85673313559,\n",
       " 176603.79277618465,\n",
       " 203801.24493327973,\n",
       " 155518.8327042225,\n",
       " 132925.99235106117,\n",
       " 237184.77459526405,\n",
       " 243837.33729560027,\n",
       " 179849.9756776453,\n",
       " 185311.1537108841,\n",
       " 238387.08712949598,\n",
       " 271990.49803008471,\n",
       " 206207.94879873141,\n",
       " 224816.40830110895,\n",
       " 153951.24230943658,\n",
       " 144014.52290383581,\n",
       " 139475.14106660025,\n",
       " 117759.14545732102,\n",
       " 151573.88393933137,\n",
       " 203030.13821783435,\n",
       " 154516.52071885028,\n",
       " 141315.37955155672,\n",
       " 124918.22690746821,\n",
       " 109085.12321600941,\n",
       " 118519.04346781937,\n",
       " 132127.78145801721,\n",
       " 180110.43191996217,\n",
       " 191919.83287663839,\n",
       " 158292.76203954144,\n",
       " 135843.1025284653,\n",
       " 176668.78994514918,\n",
       " 178217.13353436932,\n",
       " 209050.09962807465,\n",
       " 96456.309762313613,\n",
       " 109493.52471393622,\n",
       " 106264.34782876616,\n",
       " 182693.20462525586,\n",
       " 221187.31022205501,\n",
       " 166178.58344863734,\n",
       " 113765.24982805914,\n",
       " 258146.5689307673,\n",
       " 174770.99098778158,\n",
       " 239529.30902010226,\n",
       " 135361.14640211465,\n",
       " 153748.06076554867,\n",
       " 210928.06891555787,\n",
       " 325149.15794938017,\n",
       " 295536.47776795097,\n",
       " 200282.11479903664,\n",
       " 231598.78392763599,\n",
       " 178811.28254387781,\n",
       " 321086.21357863216,\n",
       " 147700.62105169659,\n",
       " 173166.61602047374,\n",
       " 122450.44732909393,\n",
       " 115302.98493955501,\n",
       " 127951.6389075421,\n",
       " 143640.71654633185,\n",
       " 182496.53156812361,\n",
       " 186573.20763178801,\n",
       " 183597.41703782833,\n",
       " 196189.26484474997,\n",
       " 181888.08556654229,\n",
       " 175708.58617882809,\n",
       " 203966.18465229121,\n",
       " 178240.77238568,\n",
       " 178091.69014814604,\n",
       " 189460.03869150739,\n",
       " 139914.89993574604,\n",
       " 263736.27175047086,\n",
       " 319665.45380164613,\n",
       " 177527.18114246809,\n",
       " 214987.64525879186,\n",
       " 263132.68592509715,\n",
       " 214401.7843510494,\n",
       " 159187.63456646199,\n",
       " 249716.68641203659,\n",
       " 266298.83457766939,\n",
       " 162975.0461424375,\n",
       " 163642.82203243536,\n",
       " 130064.14872300671,\n",
       " 296457.11256729165,\n",
       " 201909.46984104175,\n",
       " 264357.00566213985,\n",
       " 170113.35353534837,\n",
       " 127501.76744410001,\n",
       " 120355.77919102194,\n",
       " 96412.518297467046,\n",
       " 100319.94095092495,\n",
       " 103465.70528455661,\n",
       " 144057.83195315712,\n",
       " 151182.23446568157,\n",
       " 245701.28061718805,\n",
       " 337815.93557011441,\n",
       " 329968.19636136474,\n",
       " 333146.33752986416,\n",
       " 326229.97745951253,\n",
       " 304347.74715150148,\n",
       " 191957.4496755432,\n",
       " 275154.26817177975,\n",
       " 335072.43318883516,\n",
       " 231621.60026121337,\n",
       " 268168.6145539126,\n",
       " 290903.37303380598,\n",
       " 218672.74451283217,\n",
       " 186290.33038459043,\n",
       " 223656.50864826149,\n",
       " 199359.70603506325,\n",
       " 169461.37973486085,\n",
       " 150761.09935280308,\n",
       " 205025.6647945251,\n",
       " 220497.72281370847,\n",
       " 177140.57661343724,\n",
       " 165755.97531032091,\n",
       " 183363.22302370632,\n",
       " 166172.49294653095,\n",
       " 196148.87518268867,\n",
       " 186294.905646789,\n",
       " 159560.45709538815,\n",
       " 256166.94264851674,\n",
       " 180613.67889066087,\n",
       " 216322.84452368304,\n",
       " 250451.52297443044,\n",
       " 344762.95002214104,\n",
       " 249118.68350237675,\n",
       " 265403.05352323328,\n",
       " 227700.13737436439,\n",
       " 215785.4280144331,\n",
       " 213686.36724542521,\n",
       " 217272.36111426118,\n",
       " 181720.62721869195,\n",
       " 189284.5453401409,\n",
       " 222652.47687417094,\n",
       " 174326.71891921127,\n",
       " 183976.76154495994,\n",
       " 179708.18690114899,\n",
       " 140081.92049510858,\n",
       " 150190.09420987873,\n",
       " 189278.8657478682,\n",
       " 196466.32504705628,\n",
       " 179596.63152642472,\n",
       " 195854.19517335139,\n",
       " 191913.61594517747,\n",
       " 134480.55937514434,\n",
       " 115300.05058961977,\n",
       " 121952.35829259359,\n",
       " 113399.45983604821,\n",
       " 200043.28069707312,\n",
       " 165879.09278245555,\n",
       " 256376.29190132761,\n",
       " 257427.99915574811,\n",
       " 177114.12053037767,\n",
       " 147452.76562758969,\n",
       " 151121.05932712968,\n",
       " 157372.55522262093,\n",
       " 261953.27433442089,\n",
       " 180968.4067033912,\n",
       " 207373.57769106809,\n",
       " 222894.33272811538,\n",
       " 144454.89583333366,\n",
       " 202703.38054411195,\n",
       " 156815.8005254195,\n",
       " 155757.39650528369,\n",
       " 152396.51036927392,\n",
       " 155518.56550256908,\n",
       " 212332.14628626232,\n",
       " 234098.27206296695,\n",
       " 166244.36434616998,\n",
       " 161483.80437795937,\n",
       " 198188.93219841289,\n",
       " 249840.30573950615,\n",
       " 206094.51331283254,\n",
       " 156842.5242159394,\n",
       " 116442.72820911878,\n",
       " 213788.70177800636,\n",
       " 183373.07024813088,\n",
       " 95904.309686976805,\n",
       " 147238.55998051431,\n",
       " 143766.87545444921,\n",
       " 96630.836328743666,\n",
       " 171867.99251521839,\n",
       " 135640.34077453564,\n",
       " 138616.23752649766,\n",
       " 208301.08633929692,\n",
       " 147510.44417985147,\n",
       " 174383.38078674983,\n",
       " 214484.30392181556,\n",
       " 141824.6522154031,\n",
       " 125756.96661753986,\n",
       " 146065.70026001363,\n",
       " 139575.76769011779,\n",
       " 180242.85003756973,\n",
       " 107979.21786203838,\n",
       " 217016.73431986422,\n",
       " 114539.51917654513,\n",
       " 133268.15038791191,\n",
       " 96355.966210419749,\n",
       " 176941.41426014272,\n",
       " 141892.85161455773,\n",
       " 168189.22407348565,\n",
       " 155484.2451396095,\n",
       " 123745.70099502047,\n",
       " 144119.31106399174,\n",
       " 131676.92051237976,\n",
       " 158984.74768986303,\n",
       " 109932.63674692278,\n",
       " 141750.08731910869,\n",
       " 187512.08615529057,\n",
       " 152200.30046032599,\n",
       " 105835.8472409309,\n",
       " 137114.69470475681,\n",
       " 127649.23586881407,\n",
       " 129171.9798098528,\n",
       " 130978.84351595581,\n",
       " 80171.658900792521,\n",
       " 121710.88136050384,\n",
       " 164944.39902186848,\n",
       " 161155.68963376025,\n",
       " 174126.60232972784,\n",
       " 102778.25857136266,\n",
       " 153952.27305155012,\n",
       " 102155.88089321523,\n",
       " 101815.70401122281,\n",
       " 150569.09286896297,\n",
       " 91903.493881908056,\n",
       " 137112.66412417125,\n",
       " 167242.89871365108,\n",
       " 123921.28343562606,\n",
       " 120601.36122361022,\n",
       " 153884.56680401633,\n",
       " 111336.52731036027,\n",
       " 130662.58827790739,\n",
       " 225963.33901056697,\n",
       " 122184.05121692963,\n",
       " 103246.76941745289,\n",
       " 128379.04339305131,\n",
       " 147966.35970305043,\n",
       " 151154.0546234739,\n",
       " 119295.9264831289,\n",
       " 110713.55991088823,\n",
       " 128512.49551469323,\n",
       " 112127.14106402811,\n",
       " 125679.67515720749,\n",
       " 121570.44657290843,\n",
       " 114686.07557814242,\n",
       " 113518.15486381159,\n",
       " 115892.31407247657,\n",
       " 107657.31030953293,\n",
       " 90568.794846535588,\n",
       " 133119.010808811,\n",
       " 136820.79041306727,\n",
       " 165258.42713815745,\n",
       " 161878.06309966164,\n",
       " 127798.06825805432,\n",
       " 105211.8989482508,\n",
       " 147392.03218344954,\n",
       " 164076.85704520182,\n",
       " 145036.47120096654,\n",
       " 124299.76672031281,\n",
       " 130029.34803234952,\n",
       " 116142.4803875942,\n",
       " 134534.97329697522,\n",
       " 125642.46375461381,\n",
       " 142548.0173906796,\n",
       " 150945.49391849132,\n",
       " 134987.0618579931,\n",
       " 130857.21987179188,\n",
       " 132927.80078933356,\n",
       " 122231.40453538178,\n",
       " 169557.03915134838,\n",
       " 124575.200094863,\n",
       " 174478.71101033682,\n",
       " 188078.41237847661,\n",
       " 146564.75737412824,\n",
       " 131181.82531392472,\n",
       " 198287.0355619085,\n",
       " 108859.9365279707,\n",
       " 181454.89528791787,\n",
       " 186845.21794566588,\n",
       " 117554.22341693203,\n",
       " 134898.2296538541,\n",
       " 268808.63104788825,\n",
       " 226412.37456450047,\n",
       " 194942.48226403576,\n",
       " 162811.25594377943,\n",
       " 144370.18019037641,\n",
       " 216645.18311607817,\n",
       " 352060.14648348984,\n",
       " 308489.0552592451,\n",
       " 179974.75699876773,\n",
       " 166311.47512711535,\n",
       " 137369.17793053624,\n",
       " 208593.97449340348,\n",
       " 189564.09932220954,\n",
       " 179011.1899631655,\n",
       " 197526.80615773518,\n",
       " 156718.52200544596,\n",
       " 124634.48795100542,\n",
       " 174865.79345363,\n",
       " 205227.51573795691,\n",
       " 245328.80176946989,\n",
       " 319658.63252712646,\n",
       " 228980.52912893228,\n",
       " 185269.280402551,\n",
       " 135528.56864757463,\n",
       " 273397.11508006585,\n",
       " 201637.52444239156,\n",
       " 238738.22752162279,\n",
       " 171200.24948913974,\n",
       " 138165.34061263435,\n",
       " 143157.74517477999,\n",
       " 153835.56057158235,\n",
       " 140181.78472018414,\n",
       " 169386.88244796087,\n",
       " 283058.33604034293,\n",
       " 84803.323062825686,\n",
       " 91738.719969285754,\n",
       " 122874.40954058318,\n",
       " 137049.59530897468,\n",
       " 87866.519050460294,\n",
       " 129407.09692537771,\n",
       " 112544.44945475261,\n",
       " 122671.73211281726,\n",
       " 176386.9016957398,\n",
       " 177330.94956249394,\n",
       " 134141.64541716839,\n",
       " 161172.96881534756,\n",
       " 168504.2257571184,\n",
       " 168080.76193386962,\n",
       " 175608.68286946011,\n",
       " 124030.84827535412,\n",
       " 141865.60791162928,\n",
       " 166739.26486893304,\n",
       " 175548.70641806835,\n",
       " 190947.20883502791,\n",
       " 101161.62018921381,\n",
       " 110067.69831703212,\n",
       " 104779.03710356614,\n",
       " 121321.90492214455,\n",
       " 127294.25043165397,\n",
       " 107432.38639899201,\n",
       " 166664.69163191615,\n",
       " 139752.48035806546,\n",
       " 116084.23205846761,\n",
       " 103970.50639274933,\n",
       " 106158.99801271239,\n",
       " 257144.03797949024,\n",
       " 257069.81436105477,\n",
       " 187475.50944731018,\n",
       " 218059.56068781012,\n",
       " 163384.75618221782,\n",
       " 222375.0476088993,\n",
       " 192350.66340325083,\n",
       " 197008.77793506844,\n",
       " 185910.24036718,\n",
       " 153749.57536579014,\n",
       " 189100.1001318786,\n",
       " 185274.02539760844,\n",
       " 175307.40382257855,\n",
       " 167098.1180207771,\n",
       " 210360.07216704942,\n",
       " 245290.92271973976,\n",
       " 342528.03212153231,\n",
       " 179660.97756976762,\n",
       " 133157.78116185832,\n",
       " 163298.92129709761,\n",
       " 175054.69968271229,\n",
       " 150423.14367425494,\n",
       " 144586.31712463751,\n",
       " 98132.843699952849,\n",
       " 98116.296995604614,\n",
       " 153357.62540183339,\n",
       " 95571.36233230299,\n",
       " 119923.92860238753,\n",
       " 122548.96523084088,\n",
       " 131395.57777636423,\n",
       " 246764.2563994822,\n",
       " 205548.56566280316,\n",
       " 151333.22853566281,\n",
       " 165461.93802395801,\n",
       " 201425.38375915971,\n",
       " 184422.80613973673,\n",
       " 158417.04607849219,\n",
       " 135746.56824270921,\n",
       " 170518.1050806444,\n",
       " 163601.6591610891,\n",
       " 155595.19125746589,\n",
       " 204376.1027724483,\n",
       " 282913.62999671593,\n",
       " 289078.40229229006,\n",
       " 252963.50412438819,\n",
       " 192271.90298379876,\n",
       " 331032.85157147696,\n",
       " 313733.43355688185,\n",
       " 164742.32241275784,\n",
       " 162303.29356862418,\n",
       " 220851.4753466853,\n",
       " 208702.16224157228,\n",
       " 141883.69063777517,\n",
       " 174758.24649241721,\n",
       " 163960.54574617455,\n",
       " 162052.69746154771,\n",
       " 180969.6506875825,\n",
       " 152172.62170247198,\n",
       " 113621.74779088688,\n",
       " 142931.6497427446,\n",
       " 183060.11287218553,\n",
       " 160784.06305474174,\n",
       " 101058.33985765585,\n",
       " 107196.9577273733,\n",
       " 130342.93325789786,\n",
       " 128580.75496505764,\n",
       " 274159.99216382549,\n",
       " 221714.37849819323,\n",
       " 327672.51955920918,\n",
       " 351236.99452732579,\n",
       " 251426.7734422184,\n",
       " 330535.48292171507,\n",
       " 384864.662639766,\n",
       " 376710.1601585708,\n",
       " 337468.27126757562,\n",
       " 207946.67954543495,\n",
       " 235180.7609215249,\n",
       " 248111.17245650056,\n",
       " 357841.57024387305,\n",
       " 277260.13503327937,\n",
       " 199233.83531134101,\n",
       " 217750.46222057383,\n",
       " 210023.71255447838,\n",
       " 196754.80417558603,\n",
       " 197635.68593957138,\n",
       " 193281.06753661105,\n",
       " 195849.9302565378,\n",
       " 193708.32677190984,\n",
       " 193229.57295111942,\n",
       " 159732.71858640452,\n",
       " 200720.81570434128,\n",
       " 172052.66655709952,\n",
       " 169187.40842864875,\n",
       " 173398.90619793264,\n",
       " 177102.41561130379,\n",
       " 157715.09042704629,\n",
       " 156710.58820775061,\n",
       " 174463.43212217593,\n",
       " 159580.89101515364,\n",
       " 185493.92135688919,\n",
       " 216169.86659330819,\n",
       " 177643.39991382835,\n",
       " 169720.73976521753,\n",
       " 161456.58377415087,\n",
       " 210821.75446577571,\n",
       " 160931.73322463507,\n",
       " 169861.68168539112,\n",
       " 207090.93479925467,\n",
       " 171991.25354535272,\n",
       " 159352.86248503815,\n",
       " 311181.48027931579,\n",
       " 283902.61211949686,\n",
       " 280158.73599665362,\n",
       " 246035.96994378653,\n",
       " 209145.50584377651,\n",
       " 283793.95582863467,\n",
       " 208679.10791888501,\n",
       " 204838.95745507019,\n",
       " 228839.63736251849,\n",
       " 332855.05599754403,\n",
       " 216786.58236011138,\n",
       " 209875.50201718407,\n",
       " 206300.26232624031,\n",
       " 182961.56682091553,\n",
       " 197293.84363982125,\n",
       " 181957.6280506461,\n",
       " 179182.923077791,\n",
       " 194811.91789657134,\n",
       " 177818.79360138657,\n",
       " 230827.48046351344,\n",
       " 230424.81994632285,\n",
       " 232484.1454836737,\n",
       " 269553.48939559533,\n",
       " 138406.37629318904,\n",
       " 148177.12314511737,\n",
       " 157085.03691998567,\n",
       " 186520.07817890641,\n",
       " 192687.08911316277,\n",
       " 161772.11065311733,\n",
       " 115327.0216123469,\n",
       " 139424.44465508565,\n",
       " 238038.57213677655,\n",
       " 137143.45567299897,\n",
       " 151392.42594508521,\n",
       " 193501.3374412565,\n",
       " 173107.12876976299,\n",
       " 194045.25048251884,\n",
       " 181219.49626314745,\n",
       " 189324.52686010709,\n",
       " 157324.55734885615,\n",
       " 156451.54635212015,\n",
       " 189636.27473630692,\n",
       " 213151.30685540751,\n",
       " 227978.66841239022,\n",
       " 181929.11148165964,\n",
       " 352041.32164266962,\n",
       " 264738.27801180969,\n",
       " 149821.00498680538,\n",
       " 206728.42141096949,\n",
       " 134696.70462333079,\n",
       " 148874.08101047555,\n",
       " 172901.071367141,\n",
       " 211463.80501189723,\n",
       " 241621.97090283345,\n",
       " 144130.11305674084,\n",
       " 138747.69789494245,\n",
       " 127892.74568661462,\n",
       " 120388.63270023189,\n",
       " 132710.71680531048,\n",
       " 156003.61912633557,\n",
       " 132920.14919368119,\n",
       " 107710.46731282491,\n",
       " 153941.75445427577,\n",
       " 133082.22407372721,\n",
       " 190540.6241882031,\n",
       " 158981.73915314118,\n",
       " 208843.34084775607,\n",
       " 127334.33896774545,\n",
       " 88792.543328262094,\n",
       " 87470.34073233424,\n",
       " 112902.11172120362,\n",
       " 142898.82203700309,\n",
       " 196293.65106388598,\n",
       " 145857.62708885456,\n",
       " 156392.92944660265,\n",
       " 120392.57173496755,\n",
       " 139095.19334725614,\n",
       " 123017.21569049548,\n",
       " 135941.38906569371,\n",
       " 169813.81062253099,\n",
       " 123457.64774628327,\n",
       " 149413.3807550905,\n",
       " 140096.27380920423,\n",
       " 138742.55499096264,\n",
       " 187171.20086927648,\n",
       " 128174.95472964962,\n",
       " 117691.08936088889,\n",
       " 113572.22976433298,\n",
       " 157026.90665466082,\n",
       " 124033.16854177344,\n",
       " 156193.92386564397,\n",
       " 151449.71043936172,\n",
       " 159632.53496772831,\n",
       " 150472.39446880337,\n",
       " 228072.07526468002,\n",
       " 156532.00271324345,\n",
       " 152386.82919827703,\n",
       " 167175.81065562036,\n",
       " 105710.03401637271,\n",
       " 123244.61820804686,\n",
       " 136856.25048212087,\n",
       " 133674.31594189341,\n",
       " 155997.61305676951,\n",
       " 149935.22057351554,\n",
       " 164207.36294679457,\n",
       " 99953.243849885679,\n",
       " 113114.72444861288,\n",
       " 122237.14322912855,\n",
       " 110371.95521336446,\n",
       " 123957.7332657481,\n",
       " 148663.74830202005,\n",
       " 125375.35141695642,\n",
       " 113100.87006732413,\n",
       " 154319.2936065504,\n",
       " 107049.4190450949,\n",
       " 135286.07281430354,\n",
       " 179212.21914596451,\n",
       " 134385.42656687167,\n",
       " 132797.09598509289,\n",
       " 184052.66876829552,\n",
       " 139654.63618696536,\n",
       " 186104.16613609935,\n",
       " 97743.770569967877,\n",
       " 122372.1949164375,\n",
       " 117926.06187196747,\n",
       " 135645.53009185343,\n",
       " 121277.00591071954,\n",
       " 108447.32150280524,\n",
       " 108121.02276919136,\n",
       " 128585.07255964057,\n",
       " ...]"
      ]
     },
     "execution_count": 2447,
     "metadata": {},
     "output_type": "execute_result"
    }
   ],
   "source": [
    "list(test_real_predict)"
   ]
  },
  {
   "cell_type": "code",
   "execution_count": 2450,
   "metadata": {},
   "outputs": [
    {
     "data": {
      "text/plain": [
       "1459"
      ]
     },
     "execution_count": 2450,
     "metadata": {},
     "output_type": "execute_result"
    }
   ],
   "source": [
    "len(test_real_predict)"
   ]
  },
  {
   "cell_type": "markdown",
   "metadata": {},
   "source": [
    "Send it to a csv to submit! I got like 3700th!"
   ]
  },
  {
   "cell_type": "code",
   "execution_count": null,
   "metadata": {
    "collapsed": true
   },
   "outputs": [],
   "source": [
    "import  csv\n",
    "\n",
    "with open(\"predictions.csv\",\"w\") as f:\n",
    "    wr = csv.writer(f,delimiter=\"\\n\")\n",
    "    wr.writerow(test_real_predict)"
   ]
  },
  {
   "cell_type": "markdown",
   "metadata": {},
   "source": [
    "While I initially deleted many variables to ensure that I did not have more variables than observations, I would definitely re-run the this analysis with all of the variables included, or run a model to tell me which ones didn't really matter. While I thought that I included the most pertinent categorical variables in predicting housing prices, that may not necessarily be the case. I personally felt like I did well given how much I knew, but I believe that Zillow might be better off paying someone who's coded for longer than 2 months to validate my findings rather than just taking mine at face value."
   ]
  },
  {
   "cell_type": "code",
   "execution_count": null,
   "metadata": {
    "collapsed": true
   },
   "outputs": [],
   "source": []
  }
 ],
 "metadata": {
  "kernelspec": {
   "display_name": "Python 3",
   "language": "python",
   "name": "python3"
  },
  "language_info": {
   "codemirror_mode": {
    "name": "ipython",
    "version": 3
   },
   "file_extension": ".py",
   "mimetype": "text/x-python",
   "name": "python",
   "nbconvert_exporter": "python",
   "pygments_lexer": "ipython3",
   "version": "3.6.3"
  }
 },
 "nbformat": 4,
 "nbformat_minor": 2
}
